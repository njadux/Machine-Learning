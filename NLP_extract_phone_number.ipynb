{
  "nbformat": 4,
  "nbformat_minor": 0,
  "metadata": {
    "colab": {
      "provenance": [],
      "authorship_tag": "ABX9TyO5uqjjDvscMVxZaXk/aTar",
      "include_colab_link": true
    },
    "kernelspec": {
      "name": "python3",
      "display_name": "Python 3"
    },
    "language_info": {
      "name": "python"
    }
  },
  "cells": [
    {
      "cell_type": "markdown",
      "metadata": {
        "id": "view-in-github",
        "colab_type": "text"
      },
      "source": [
        "<a href=\"https://colab.research.google.com/github/njadux/Machine-Learning/blob/main/NLP_extract_phone_number.ipynb\" target=\"_parent\"><img src=\"https://colab.research.google.com/assets/colab-badge.svg\" alt=\"Open In Colab\"/></a>"
      ]
    },
    {
      "cell_type": "code",
      "execution_count": 69,
      "metadata": {
        "id": "SB0mNSbfmtiC"
      },
      "outputs": [],
      "source": [
        "import re"
      ]
    },
    {
      "cell_type": "code",
      "source": [
        "text = \"the following number is 123-456-7890\""
      ],
      "metadata": {
        "id": "HqlYyUxum-oW"
      },
      "execution_count": 70,
      "outputs": []
    },
    {
      "cell_type": "code",
      "source": [
        "user_input = input(\"Enter text that include number: \")"
      ],
      "metadata": {
        "id": "ER4u-NUtoRIs",
        "colab": {
          "base_uri": "https://localhost:8080/"
        },
        "outputId": "8fd99fb6-a534-4011-a360-a2449dab2ba1"
      },
      "execution_count": 80,
      "outputs": [
        {
          "name": "stdout",
          "output_type": "stream",
          "text": [
            "Enter text that include number: nuha 14 f 256-876-5432\n"
          ]
        }
      ]
    },
    {
      "cell_type": "code",
      "source": [
        "phone_pattern = r'\\d{3}-\\d{3}-\\d{4}'"
      ],
      "metadata": {
        "id": "MBy7QqxbnIst"
      },
      "execution_count": 81,
      "outputs": []
    },
    {
      "cell_type": "code",
      "source": [
        "matching = re.search(phone_pattern, user_input)"
      ],
      "metadata": {
        "id": "1tVd_t3Jnjok"
      },
      "execution_count": 82,
      "outputs": []
    },
    {
      "cell_type": "code",
      "source": [
        "# print the numbers in user inputs\n",
        "if matching:\n",
        "  print(matching.group())"
      ],
      "metadata": {
        "id": "rXmhLCb3nYqh",
        "colab": {
          "base_uri": "https://localhost:8080/"
        },
        "outputId": "6991d8d4-9d35-40f1-9086-7c01208ec1b9"
      },
      "execution_count": 83,
      "outputs": [
        {
          "output_type": "stream",
          "name": "stdout",
          "text": [
            "256-876-5432\n"
          ]
        }
      ]
    },
    {
      "cell_type": "code",
      "source": [
        "# splitting inputs into words and numbers\n",
        "string = re.findall(r'\\w+', user_input)"
      ],
      "metadata": {
        "id": "7BNYLT_upB0j"
      },
      "execution_count": 84,
      "outputs": []
    },
    {
      "cell_type": "code",
      "source": [
        "# Find longest word\n",
        "long_word = max(string, key=len)\n",
        "print(long_word)"
      ],
      "metadata": {
        "colab": {
          "base_uri": "https://localhost:8080/"
        },
        "id": "RBvmtS0trYZ7",
        "outputId": "88f81e49-c543-463c-f612-8ccb888d8975"
      },
      "execution_count": 85,
      "outputs": [
        {
          "output_type": "stream",
          "name": "stdout",
          "text": [
            "nuha\n"
          ]
        }
      ]
    },
    {
      "cell_type": "code",
      "source": [
        "# find all occurrences of one or more digits\n",
        "index= re.findall(r'\\d+', user_input)"
      ],
      "metadata": {
        "id": "R3QSfWttrYP8"
      },
      "execution_count": 78,
      "outputs": []
    },
    {
      "cell_type": "code",
      "source": [
        "# Print the longest number in sets\n",
        "lon_num = max(index, key=len)\n",
        "print(long_num)"
      ],
      "metadata": {
        "colab": {
          "base_uri": "https://localhost:8080/"
        },
        "id": "R659zGqxsDzM",
        "outputId": "e11c4181-9b78-4a6a-8a27-7083aa52f788"
      },
      "execution_count": 87,
      "outputs": [
        {
          "output_type": "stream",
          "name": "stdout",
          "text": [
            "['123', '133', '4453']\n"
          ]
        }
      ]
    }
  ]
}