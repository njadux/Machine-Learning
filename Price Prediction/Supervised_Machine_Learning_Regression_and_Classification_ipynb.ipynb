{
  "cells": [
    {
      "cell_type": "markdown",
      "metadata": {
        "id": "view-in-github",
        "colab_type": "text"
      },
      "source": [
        "<a href=\"https://colab.research.google.com/github/VUGUSTIE/Machine-Learning/blob/main/Supervised_Machine_Learning_Regression_and_Classification_ipynb.ipynb\" target=\"_parent\"><img src=\"https://colab.research.google.com/assets/colab-badge.svg\" alt=\"Open In Colab\"/></a>"
      ]
    },
    {
      "cell_type": "code",
      "execution_count": null,
      "metadata": {
        "colab": {
          "base_uri": "https://localhost:8080/"
        },
        "id": "S6kXl-qn1Vjl",
        "outputId": "cf7e1725-af51-47a8-92cd-ae0327103531"
      },
      "outputs": [
        {
          "output_type": "stream",
          "name": "stdout",
          "text": [
            "print the following Hey this is my first line\n"
          ]
        }
      ],
      "source": [
        "Jadu = 'Hey this is my first line'\n",
        "print(f\"print the following {Jadu}\")"
      ]
    },
    {
      "cell_type": "code",
      "execution_count": null,
      "metadata": {
        "colab": {
          "base_uri": "https://localhost:8080/"
        },
        "id": "ijeIaJN06CFz",
        "outputId": "1688400e-e8ae-4272-8ddb-90bfb0a123cf"
      },
      "outputs": [
        {
          "output_type": "stream",
          "name": "stdout",
          "text": [
            "Collecting ipympl\n",
            "  Downloading ipympl-0.9.4-py3-none-any.whl (516 kB)\n",
            "\u001b[2K     \u001b[90m━━━━━━━━━━━━━━━━━━━━━━━━━━━━━━━━━━━━━━━━\u001b[0m \u001b[32m516.3/516.3 kB\u001b[0m \u001b[31m5.7 MB/s\u001b[0m eta \u001b[36m0:00:00\u001b[0m\n",
            "\u001b[?25hRequirement already satisfied: ipython-genutils in /usr/local/lib/python3.10/dist-packages (from ipympl) (0.2.0)\n",
            "Requirement already satisfied: ipython<9 in /usr/local/lib/python3.10/dist-packages (from ipympl) (7.34.0)\n",
            "Requirement already satisfied: ipywidgets<9,>=7.6.0 in /usr/local/lib/python3.10/dist-packages (from ipympl) (7.7.1)\n",
            "Requirement already satisfied: matplotlib<4,>=3.4.0 in /usr/local/lib/python3.10/dist-packages (from ipympl) (3.7.1)\n",
            "Requirement already satisfied: numpy in /usr/local/lib/python3.10/dist-packages (from ipympl) (1.25.2)\n",
            "Requirement already satisfied: pillow in /usr/local/lib/python3.10/dist-packages (from ipympl) (9.4.0)\n",
            "Requirement already satisfied: traitlets<6 in /usr/local/lib/python3.10/dist-packages (from ipympl) (5.7.1)\n",
            "Requirement already satisfied: setuptools>=18.5 in /usr/local/lib/python3.10/dist-packages (from ipython<9->ipympl) (67.7.2)\n",
            "Collecting jedi>=0.16 (from ipython<9->ipympl)\n",
            "  Downloading jedi-0.19.1-py2.py3-none-any.whl (1.6 MB)\n",
            "\u001b[2K     \u001b[90m━━━━━━━━━━━━━━━━━━━━━━━━━━━━━━━━━━━━━━━━\u001b[0m \u001b[32m1.6/1.6 MB\u001b[0m \u001b[31m39.1 MB/s\u001b[0m eta \u001b[36m0:00:00\u001b[0m\n",
            "\u001b[?25hRequirement already satisfied: decorator in /usr/local/lib/python3.10/dist-packages (from ipython<9->ipympl) (4.4.2)\n",
            "Requirement already satisfied: pickleshare in /usr/local/lib/python3.10/dist-packages (from ipython<9->ipympl) (0.7.5)\n",
            "Requirement already satisfied: prompt-toolkit!=3.0.0,!=3.0.1,<3.1.0,>=2.0.0 in /usr/local/lib/python3.10/dist-packages (from ipython<9->ipympl) (3.0.43)\n",
            "Requirement already satisfied: pygments in /usr/local/lib/python3.10/dist-packages (from ipython<9->ipympl) (2.16.1)\n",
            "Requirement already satisfied: backcall in /usr/local/lib/python3.10/dist-packages (from ipython<9->ipympl) (0.2.0)\n",
            "Requirement already satisfied: matplotlib-inline in /usr/local/lib/python3.10/dist-packages (from ipython<9->ipympl) (0.1.7)\n",
            "Requirement already satisfied: pexpect>4.3 in /usr/local/lib/python3.10/dist-packages (from ipython<9->ipympl) (4.9.0)\n",
            "Requirement already satisfied: ipykernel>=4.5.1 in /usr/local/lib/python3.10/dist-packages (from ipywidgets<9,>=7.6.0->ipympl) (5.5.6)\n",
            "Requirement already satisfied: widgetsnbextension~=3.6.0 in /usr/local/lib/python3.10/dist-packages (from ipywidgets<9,>=7.6.0->ipympl) (3.6.6)\n",
            "Requirement already satisfied: jupyterlab-widgets>=1.0.0 in /usr/local/lib/python3.10/dist-packages (from ipywidgets<9,>=7.6.0->ipympl) (3.0.10)\n",
            "Requirement already satisfied: contourpy>=1.0.1 in /usr/local/lib/python3.10/dist-packages (from matplotlib<4,>=3.4.0->ipympl) (1.2.1)\n",
            "Requirement already satisfied: cycler>=0.10 in /usr/local/lib/python3.10/dist-packages (from matplotlib<4,>=3.4.0->ipympl) (0.12.1)\n",
            "Requirement already satisfied: fonttools>=4.22.0 in /usr/local/lib/python3.10/dist-packages (from matplotlib<4,>=3.4.0->ipympl) (4.51.0)\n",
            "Requirement already satisfied: kiwisolver>=1.0.1 in /usr/local/lib/python3.10/dist-packages (from matplotlib<4,>=3.4.0->ipympl) (1.4.5)\n",
            "Requirement already satisfied: packaging>=20.0 in /usr/local/lib/python3.10/dist-packages (from matplotlib<4,>=3.4.0->ipympl) (24.0)\n",
            "Requirement already satisfied: pyparsing>=2.3.1 in /usr/local/lib/python3.10/dist-packages (from matplotlib<4,>=3.4.0->ipympl) (3.1.2)\n",
            "Requirement already satisfied: python-dateutil>=2.7 in /usr/local/lib/python3.10/dist-packages (from matplotlib<4,>=3.4.0->ipympl) (2.8.2)\n",
            "Requirement already satisfied: jupyter-client in /usr/local/lib/python3.10/dist-packages (from ipykernel>=4.5.1->ipywidgets<9,>=7.6.0->ipympl) (6.1.12)\n",
            "Requirement already satisfied: tornado>=4.2 in /usr/local/lib/python3.10/dist-packages (from ipykernel>=4.5.1->ipywidgets<9,>=7.6.0->ipympl) (6.3.3)\n",
            "Requirement already satisfied: parso<0.9.0,>=0.8.3 in /usr/local/lib/python3.10/dist-packages (from jedi>=0.16->ipython<9->ipympl) (0.8.4)\n",
            "Requirement already satisfied: ptyprocess>=0.5 in /usr/local/lib/python3.10/dist-packages (from pexpect>4.3->ipython<9->ipympl) (0.7.0)\n",
            "Requirement already satisfied: wcwidth in /usr/local/lib/python3.10/dist-packages (from prompt-toolkit!=3.0.0,!=3.0.1,<3.1.0,>=2.0.0->ipython<9->ipympl) (0.2.13)\n",
            "Requirement already satisfied: six>=1.5 in /usr/local/lib/python3.10/dist-packages (from python-dateutil>=2.7->matplotlib<4,>=3.4.0->ipympl) (1.16.0)\n",
            "Requirement already satisfied: notebook>=4.4.1 in /usr/local/lib/python3.10/dist-packages (from widgetsnbextension~=3.6.0->ipywidgets<9,>=7.6.0->ipympl) (6.5.5)\n",
            "Requirement already satisfied: jinja2 in /usr/local/lib/python3.10/dist-packages (from notebook>=4.4.1->widgetsnbextension~=3.6.0->ipywidgets<9,>=7.6.0->ipympl) (3.1.4)\n",
            "Requirement already satisfied: pyzmq<25,>=17 in /usr/local/lib/python3.10/dist-packages (from notebook>=4.4.1->widgetsnbextension~=3.6.0->ipywidgets<9,>=7.6.0->ipympl) (24.0.1)\n",
            "Requirement already satisfied: argon2-cffi in /usr/local/lib/python3.10/dist-packages (from notebook>=4.4.1->widgetsnbextension~=3.6.0->ipywidgets<9,>=7.6.0->ipympl) (23.1.0)\n",
            "Requirement already satisfied: jupyter-core>=4.6.1 in /usr/local/lib/python3.10/dist-packages (from notebook>=4.4.1->widgetsnbextension~=3.6.0->ipywidgets<9,>=7.6.0->ipympl) (5.7.2)\n",
            "Requirement already satisfied: nbformat in /usr/local/lib/python3.10/dist-packages (from notebook>=4.4.1->widgetsnbextension~=3.6.0->ipywidgets<9,>=7.6.0->ipympl) (5.10.4)\n",
            "Requirement already satisfied: nbconvert>=5 in /usr/local/lib/python3.10/dist-packages (from notebook>=4.4.1->widgetsnbextension~=3.6.0->ipywidgets<9,>=7.6.0->ipympl) (6.5.4)\n",
            "Requirement already satisfied: nest-asyncio>=1.5 in /usr/local/lib/python3.10/dist-packages (from notebook>=4.4.1->widgetsnbextension~=3.6.0->ipywidgets<9,>=7.6.0->ipympl) (1.6.0)\n",
            "Requirement already satisfied: Send2Trash>=1.8.0 in /usr/local/lib/python3.10/dist-packages (from notebook>=4.4.1->widgetsnbextension~=3.6.0->ipywidgets<9,>=7.6.0->ipympl) (1.8.3)\n",
            "Requirement already satisfied: terminado>=0.8.3 in /usr/local/lib/python3.10/dist-packages (from notebook>=4.4.1->widgetsnbextension~=3.6.0->ipywidgets<9,>=7.6.0->ipympl) (0.18.1)\n",
            "Requirement already satisfied: prometheus-client in /usr/local/lib/python3.10/dist-packages (from notebook>=4.4.1->widgetsnbextension~=3.6.0->ipywidgets<9,>=7.6.0->ipympl) (0.20.0)\n",
            "Requirement already satisfied: nbclassic>=0.4.7 in /usr/local/lib/python3.10/dist-packages (from notebook>=4.4.1->widgetsnbextension~=3.6.0->ipywidgets<9,>=7.6.0->ipympl) (1.0.0)\n",
            "Requirement already satisfied: platformdirs>=2.5 in /usr/local/lib/python3.10/dist-packages (from jupyter-core>=4.6.1->notebook>=4.4.1->widgetsnbextension~=3.6.0->ipywidgets<9,>=7.6.0->ipympl) (4.2.1)\n",
            "Requirement already satisfied: jupyter-server>=1.8 in /usr/local/lib/python3.10/dist-packages (from nbclassic>=0.4.7->notebook>=4.4.1->widgetsnbextension~=3.6.0->ipywidgets<9,>=7.6.0->ipympl) (1.24.0)\n",
            "Requirement already satisfied: notebook-shim>=0.2.3 in /usr/local/lib/python3.10/dist-packages (from nbclassic>=0.4.7->notebook>=4.4.1->widgetsnbextension~=3.6.0->ipywidgets<9,>=7.6.0->ipympl) (0.2.4)\n",
            "Requirement already satisfied: lxml in /usr/local/lib/python3.10/dist-packages (from nbconvert>=5->notebook>=4.4.1->widgetsnbextension~=3.6.0->ipywidgets<9,>=7.6.0->ipympl) (4.9.4)\n",
            "Requirement already satisfied: beautifulsoup4 in /usr/local/lib/python3.10/dist-packages (from nbconvert>=5->notebook>=4.4.1->widgetsnbextension~=3.6.0->ipywidgets<9,>=7.6.0->ipympl) (4.12.3)\n",
            "Requirement already satisfied: bleach in /usr/local/lib/python3.10/dist-packages (from nbconvert>=5->notebook>=4.4.1->widgetsnbextension~=3.6.0->ipywidgets<9,>=7.6.0->ipympl) (6.1.0)\n",
            "Requirement already satisfied: defusedxml in /usr/local/lib/python3.10/dist-packages (from nbconvert>=5->notebook>=4.4.1->widgetsnbextension~=3.6.0->ipywidgets<9,>=7.6.0->ipympl) (0.7.1)\n",
            "Requirement already satisfied: entrypoints>=0.2.2 in /usr/local/lib/python3.10/dist-packages (from nbconvert>=5->notebook>=4.4.1->widgetsnbextension~=3.6.0->ipywidgets<9,>=7.6.0->ipympl) (0.4)\n",
            "Requirement already satisfied: jupyterlab-pygments in /usr/local/lib/python3.10/dist-packages (from nbconvert>=5->notebook>=4.4.1->widgetsnbextension~=3.6.0->ipywidgets<9,>=7.6.0->ipympl) (0.3.0)\n",
            "Requirement already satisfied: MarkupSafe>=2.0 in /usr/local/lib/python3.10/dist-packages (from nbconvert>=5->notebook>=4.4.1->widgetsnbextension~=3.6.0->ipywidgets<9,>=7.6.0->ipympl) (2.1.5)\n",
            "Requirement already satisfied: mistune<2,>=0.8.1 in /usr/local/lib/python3.10/dist-packages (from nbconvert>=5->notebook>=4.4.1->widgetsnbextension~=3.6.0->ipywidgets<9,>=7.6.0->ipympl) (0.8.4)\n",
            "Requirement already satisfied: nbclient>=0.5.0 in /usr/local/lib/python3.10/dist-packages (from nbconvert>=5->notebook>=4.4.1->widgetsnbextension~=3.6.0->ipywidgets<9,>=7.6.0->ipympl) (0.10.0)\n",
            "Requirement already satisfied: pandocfilters>=1.4.1 in /usr/local/lib/python3.10/dist-packages (from nbconvert>=5->notebook>=4.4.1->widgetsnbextension~=3.6.0->ipywidgets<9,>=7.6.0->ipympl) (1.5.1)\n",
            "Requirement already satisfied: tinycss2 in /usr/local/lib/python3.10/dist-packages (from nbconvert>=5->notebook>=4.4.1->widgetsnbextension~=3.6.0->ipywidgets<9,>=7.6.0->ipympl) (1.3.0)\n",
            "Requirement already satisfied: fastjsonschema>=2.15 in /usr/local/lib/python3.10/dist-packages (from nbformat->notebook>=4.4.1->widgetsnbextension~=3.6.0->ipywidgets<9,>=7.6.0->ipympl) (2.19.1)\n",
            "Requirement already satisfied: jsonschema>=2.6 in /usr/local/lib/python3.10/dist-packages (from nbformat->notebook>=4.4.1->widgetsnbextension~=3.6.0->ipywidgets<9,>=7.6.0->ipympl) (4.19.2)\n",
            "Requirement already satisfied: argon2-cffi-bindings in /usr/local/lib/python3.10/dist-packages (from argon2-cffi->notebook>=4.4.1->widgetsnbextension~=3.6.0->ipywidgets<9,>=7.6.0->ipympl) (21.2.0)\n",
            "Requirement already satisfied: attrs>=22.2.0 in /usr/local/lib/python3.10/dist-packages (from jsonschema>=2.6->nbformat->notebook>=4.4.1->widgetsnbextension~=3.6.0->ipywidgets<9,>=7.6.0->ipympl) (23.2.0)\n",
            "Requirement already satisfied: jsonschema-specifications>=2023.03.6 in /usr/local/lib/python3.10/dist-packages (from jsonschema>=2.6->nbformat->notebook>=4.4.1->widgetsnbextension~=3.6.0->ipywidgets<9,>=7.6.0->ipympl) (2023.12.1)\n",
            "Requirement already satisfied: referencing>=0.28.4 in /usr/local/lib/python3.10/dist-packages (from jsonschema>=2.6->nbformat->notebook>=4.4.1->widgetsnbextension~=3.6.0->ipywidgets<9,>=7.6.0->ipympl) (0.35.1)\n",
            "Requirement already satisfied: rpds-py>=0.7.1 in /usr/local/lib/python3.10/dist-packages (from jsonschema>=2.6->nbformat->notebook>=4.4.1->widgetsnbextension~=3.6.0->ipywidgets<9,>=7.6.0->ipympl) (0.18.1)\n",
            "Requirement already satisfied: anyio<4,>=3.1.0 in /usr/local/lib/python3.10/dist-packages (from jupyter-server>=1.8->nbclassic>=0.4.7->notebook>=4.4.1->widgetsnbextension~=3.6.0->ipywidgets<9,>=7.6.0->ipympl) (3.7.1)\n",
            "Requirement already satisfied: websocket-client in /usr/local/lib/python3.10/dist-packages (from jupyter-server>=1.8->nbclassic>=0.4.7->notebook>=4.4.1->widgetsnbextension~=3.6.0->ipywidgets<9,>=7.6.0->ipympl) (1.8.0)\n",
            "Requirement already satisfied: cffi>=1.0.1 in /usr/local/lib/python3.10/dist-packages (from argon2-cffi-bindings->argon2-cffi->notebook>=4.4.1->widgetsnbextension~=3.6.0->ipywidgets<9,>=7.6.0->ipympl) (1.16.0)\n",
            "Requirement already satisfied: soupsieve>1.2 in /usr/local/lib/python3.10/dist-packages (from beautifulsoup4->nbconvert>=5->notebook>=4.4.1->widgetsnbextension~=3.6.0->ipywidgets<9,>=7.6.0->ipympl) (2.5)\n",
            "Requirement already satisfied: webencodings in /usr/local/lib/python3.10/dist-packages (from bleach->nbconvert>=5->notebook>=4.4.1->widgetsnbextension~=3.6.0->ipywidgets<9,>=7.6.0->ipympl) (0.5.1)\n",
            "Requirement already satisfied: idna>=2.8 in /usr/local/lib/python3.10/dist-packages (from anyio<4,>=3.1.0->jupyter-server>=1.8->nbclassic>=0.4.7->notebook>=4.4.1->widgetsnbextension~=3.6.0->ipywidgets<9,>=7.6.0->ipympl) (3.7)\n",
            "Requirement already satisfied: sniffio>=1.1 in /usr/local/lib/python3.10/dist-packages (from anyio<4,>=3.1.0->jupyter-server>=1.8->nbclassic>=0.4.7->notebook>=4.4.1->widgetsnbextension~=3.6.0->ipywidgets<9,>=7.6.0->ipympl) (1.3.1)\n",
            "Requirement already satisfied: exceptiongroup in /usr/local/lib/python3.10/dist-packages (from anyio<4,>=3.1.0->jupyter-server>=1.8->nbclassic>=0.4.7->notebook>=4.4.1->widgetsnbextension~=3.6.0->ipywidgets<9,>=7.6.0->ipympl) (1.2.1)\n",
            "Requirement already satisfied: pycparser in /usr/local/lib/python3.10/dist-packages (from cffi>=1.0.1->argon2-cffi-bindings->argon2-cffi->notebook>=4.4.1->widgetsnbextension~=3.6.0->ipywidgets<9,>=7.6.0->ipympl) (2.22)\n",
            "Installing collected packages: jedi, ipympl\n",
            "Successfully installed ipympl-0.9.4 jedi-0.19.1\n",
            "Requirement already satisfied: matplotlib in /usr/local/lib/python3.10/dist-packages (3.7.1)\n",
            "Requirement already satisfied: contourpy>=1.0.1 in /usr/local/lib/python3.10/dist-packages (from matplotlib) (1.2.1)\n",
            "Requirement already satisfied: cycler>=0.10 in /usr/local/lib/python3.10/dist-packages (from matplotlib) (0.12.1)\n",
            "Requirement already satisfied: fonttools>=4.22.0 in /usr/local/lib/python3.10/dist-packages (from matplotlib) (4.51.0)\n",
            "Requirement already satisfied: kiwisolver>=1.0.1 in /usr/local/lib/python3.10/dist-packages (from matplotlib) (1.4.5)\n",
            "Requirement already satisfied: numpy>=1.20 in /usr/local/lib/python3.10/dist-packages (from matplotlib) (1.25.2)\n",
            "Requirement already satisfied: packaging>=20.0 in /usr/local/lib/python3.10/dist-packages (from matplotlib) (24.0)\n",
            "Requirement already satisfied: pillow>=6.2.0 in /usr/local/lib/python3.10/dist-packages (from matplotlib) (9.4.0)\n",
            "Requirement already satisfied: pyparsing>=2.3.1 in /usr/local/lib/python3.10/dist-packages (from matplotlib) (3.1.2)\n",
            "Requirement already satisfied: python-dateutil>=2.7 in /usr/local/lib/python3.10/dist-packages (from matplotlib) (2.8.2)\n",
            "Requirement already satisfied: six>=1.5 in /usr/local/lib/python3.10/dist-packages (from python-dateutil>=2.7->matplotlib) (1.16.0)\n"
          ]
        }
      ],
      "source": [
        "!pip install ipympl\n",
        "!pip install matplotlib"
      ]
    },
    {
      "cell_type": "code",
      "execution_count": null,
      "metadata": {
        "id": "6IECWCTP1bbD"
      },
      "outputs": [],
      "source": [
        "#lib for scientific computing\n",
        "import numpy as np\n",
        "#lib for plotting data\n",
        "%matplotlib widget\n",
        "\n",
        "import matplotlib.pyplot as plt"
      ]
    },
    {
      "cell_type": "code",
      "execution_count": null,
      "metadata": {
        "id": "OVeJbgrzAsVl"
      },
      "outputs": [],
      "source": [
        "!pip install lab_utils_uni\n",
        "import sys\n",
        "sys.path.append('/path/to/lab_utils_uni')"
      ]
    },
    {
      "cell_type": "code",
      "execution_count": null,
      "metadata": {
        "id": "7L6eIVKe7xaS"
      },
      "outputs": [],
      "source": [
        "# importing function that help for visualization (if the model is complex or\n",
        "# visual type) [will not work bc the local file]\n",
        "\n",
        "from lab_utils_uni import plt_intuituin, plt_stationary, plt_update_onclick, soup_bowl\n",
        "plt.style.use ('./deeplearning.mplstyle')"
      ]
    },
    {
      "cell_type": "code",
      "execution_count": null,
      "metadata": {
        "id": "Eq-GslG-_4jB"
      },
      "outputs": [],
      "source": [
        "plt_intuition(x_train,y_train)"
      ]
    },
    {
      "cell_type": "markdown",
      "metadata": {
        "id": "YHhdMtac8kcg"
      },
      "source": [
        "You would like a model which can predict housing prices given the size of the house.\n",
        "Let's use the same two data points as before the previous lab- a house with 1000 square feet sold for $300,000 and a house with 2000 square feet sold for $500,000."
      ]
    },
    {
      "cell_type": "code",
      "execution_count": null,
      "metadata": {
        "id": "Nhdu2GUB8iiO"
      },
      "outputs": [],
      "source": [
        "x_train = np.array([1.0, 2.0])\n",
        "y_train = np.array([300.0, 500.0])"
      ]
    },
    {
      "cell_type": "markdown",
      "metadata": {
        "id": "UG2GTf-a93BQ"
      },
      "source": [
        "Computes the cost function for linear regression.\n",
        "\n",
        "\n",
        "*  x is the array name\n",
        "*  x.shape means the rows in the array\n",
        "*  [0] is the first element of the tuple, which represents the number of rows in the array"
      ]
    },
    {
      "cell_type": "markdown",
      "metadata": {
        "id": "OrHqoMOv_bfG"
      },
      "source": [
        "f_wb: This represents the model's prediction for the i-th data point.\n",
        "It is calculated as w * x[i] + b,\n",
        "\n",
        "\n",
        "*   where w is the model's weight,\n",
        "*   x[i] is the i-th input value,\n",
        "*   b is the model's bias.\n",
        "*   y[i]: This is the actual target value for the i-th data point.\n"
      ]
    },
    {
      "cell_type": "markdown",
      "metadata": {
        "id": "ohpX0KbdAOdz"
      },
      "source": [
        "𝐽(𝑤,𝑏)=1/2𝑚 [∑𝑖=0𝑚−]1 (𝑓𝑤,𝑏(𝑥(𝑖))−𝑦(𝑖))2(1)"
      ]
    },
    {
      "cell_type": "code",
      "execution_count": null,
      "metadata": {
        "id": "iQkVAWco-ET5"
      },
      "outputs": [],
      "source": [
        "def compute_cost(x,y, w, b):\n",
        "  m = x_train.shape[0]\n",
        "  cost_sum = 0\n",
        "  for i in range(m):\n",
        "    f_wb  = w * x[i] + b\n",
        "    cost = (f_wb - y[i]) ** 2\n",
        "    cost_sum = cost_sum + cost\n",
        "  total_cost = (1/(2*m)) * cost_sum\n",
        "  return total_cost"
      ]
    },
    {
      "cell_type": "code",
      "execution_count": null,
      "metadata": {
        "id": "wKti22scBLfX"
      },
      "outputs": [],
      "source": [
        "x_train = np.array([1.0, 1.7, 2.0, 2.5, 3.0, 3.2])\n",
        "y_train = np.array([250, 300, 480,  430,   630, 730,])"
      ]
    },
    {
      "cell_type": "code",
      "execution_count": null,
      "metadata": {
        "colab": {
          "base_uri": "https://localhost:8080/"
        },
        "id": "zJQ4QAqRBcbO",
        "outputId": "e1b72904-333a-4e11-b2c2-641f3b8ed7df"
      },
      "outputs": [
        {
          "output_type": "stream",
          "name": "stdout",
          "text": [
            "x_train = [1.  1.7 2.  2.5 3.  3.2]\n",
            "y_train = [250 300 480 430 630 730]\n"
          ]
        }
      ],
      "source": [
        "print(f\"x_train = {x_train}\")\n",
        "print(f\"y_train = {y_train}\")"
      ]
    },
    {
      "cell_type": "markdown",
      "metadata": {
        "id": "nDZpKxZxCtIV"
      },
      "source": [
        "counting the no of the rows in the array"
      ]
    },
    {
      "cell_type": "code",
      "execution_count": null,
      "metadata": {
        "colab": {
          "base_uri": "https://localhost:8080/"
        },
        "id": "0SqK2x3nCpjV",
        "outputId": "6db473d5-db67-4771-c7ce-1971985d6bd9"
      },
      "outputs": [
        {
          "output_type": "stream",
          "name": "stdout",
          "text": [
            "x_train.shape: (6,)\n",
            "y_train.shape: (6,)\n"
          ]
        }
      ],
      "source": [
        "print(f\"x_train.shape: {x_train.shape}\")\n",
        "print(f\"y_train.shape: {y_train.shape}\")"
      ]
    },
    {
      "cell_type": "code",
      "execution_count": null,
      "metadata": {
        "colab": {
          "base_uri": "https://localhost:8080/"
        },
        "id": "Y46NPe-TEA1F",
        "outputId": "a5b8164c-4fc9-42d5-a0df-cc14a9caac30"
      },
      "outputs": [
        {
          "output_type": "stream",
          "name": "stdout",
          "text": [
            "the foolowing is the m value which is the no of training examples 6\n"
          ]
        }
      ],
      "source": [
        "m = x_train.shape[0]\n",
        "print (f\"the foolowing is the m value which is the no of training examples {m}\")"
      ]
    },
    {
      "cell_type": "markdown",
      "metadata": {
        "id": "K1JkJE4mEf7j"
      },
      "source": [
        "One way to define m is to use the len() function to get the number of elements in the x_train array:"
      ]
    },
    {
      "cell_type": "code",
      "execution_count": null,
      "metadata": {
        "id": "HWfInUScEg8s"
      },
      "outputs": [],
      "source": [
        "m = len(x_train)"
      ]
    },
    {
      "cell_type": "code",
      "execution_count": null,
      "metadata": {
        "colab": {
          "base_uri": "https://localhost:8080/"
        },
        "id": "i3HWMuSXIKGV",
        "outputId": "5fe2f32f-5c5f-4193-b734-5a276238f528"
      },
      "outputs": [
        {
          "output_type": "stream",
          "name": "stdout",
          "text": [
            "{1.0} {250}\n",
            "{2.5} {430}\n"
          ]
        }
      ],
      "source": [
        "power = 0\n",
        "x_power = x_train[power]\n",
        "y_power = y_train[power]\n",
        "print({x_power},{y_power})\n",
        "\n",
        "power = 3\n",
        "x_power = x_train[power]\n",
        "y_power = y_train[power]\n",
        "print({x_power},{y_power})"
      ]
    },
    {
      "cell_type": "markdown",
      "metadata": {
        "id": "-GUyTDtiI8_O"
      },
      "source": [
        "\n",
        "\n",
        "1.   the scatter() function in the matplotlib library, as shown in the cell below.\n",
        "\n",
        "\n",
        "2.   The function arguments marker and c show the points as red crosses (the default is blue dots).\n",
        "\n",
        "3.   You can use other functions in the matplotlib library to set the title and labels to display\n"
      ]
    },
    {
      "cell_type": "code",
      "execution_count": null,
      "metadata": {
        "colab": {
          "base_uri": "https://localhost:8080/",
          "height": 34,
          "referenced_widgets": [
            "850dbe4097b54f089618ca4b39f08da9"
          ]
        },
        "id": "2rG-hVVrIp9l",
        "outputId": "4d2d275c-7910-4140-c140-e6c0ace3902d"
      },
      "outputs": [
        {
          "output_type": "execute_result",
          "data": {
            "text/plain": [
              "<matplotlib.collections.PathCollection at 0x793d340c3c70>"
            ]
          },
          "metadata": {},
          "execution_count": 14
        },
        {
          "output_type": "display_data",
          "data": {
            "text/plain": [
              "Canvas(toolbar=Toolbar(toolitems=[('Home', 'Reset original view', 'home', 'home'), ('Back', 'Back to previous …"
            ],
            "image/png": "[encoded data removed]",
            "text/html": [
              "\n",
              "            <div style=\"display: inline-block;\">\n",
              "                <div class=\"jupyter-widgets widget-label\" style=\"text-align: center;\">\n",
              "                    Figure\n",
              "                </div>\n",
              "                <img src='data:image/png;base64,iVBORw0KGgoAAAANSUhEUgAAAoAAAAHgCAYAAAA10dzkAAAAOXRFWHRTb2Z0d2FyZQBNYXRwbG90bGliIHZlcnNpb24zLjcuMSwgaHR0cHM6Ly9tYXRwbG90bGliLm9yZy/bCgiHAAAACXBIWXMAAA9hAAAPYQGoP6dpAAAliUlEQVR4nO3df5BddX3/8dfu5ge/cjeGIbsJmwAWhQRBFFuyaEbESILRkUkiaimmA2plAk2gos0MRYsdY3EsxKmAqCW0lmFCDFpiCQSQmEpAiGUmQkzRMm5CsolTzd7AlAR27/ePTvbLkqARkr25+3k8Zu4Me865e99nTu7cJ+fePbepVqvVAgBAMZrrPQAAAINLAAIAFEYAAgAURgACABRGAAIAFEYAAgAURgACABRGAAIAFEYAAgAURgACABRGAAIAFEYAAgAURgACABRGAAIAFEYAAgAURgACABRGAAIAFEYAAgAURgACABRGAAIAFEYAAgAURgACABRGAAIAFEYAAgAURgACABRGAAIAFEYAAgAURgACABRGAAIAFEYAAgAURgACABRGAAIAFEYAAgAURgACABRGAAIAFEYAAgAURgACABRGAAIAFEYAAgAURgACABRGAAIAFEYAAgAURgACABRGAAIAFEYAAgAURgACABRGAAIAFEYAAgAURgACABRGAAIAFEYAAgAURgACABRGAAIAFEYAAgAURgACABRGAAIAFGZYvQdoZH19fdmyZUtGjRqVpqameo8DAOyHWq2WnTt3Zvz48WluLvNcmAB8HbZs2ZIJEybUewwA4DXYtGlTOjo66j1GXQjA12HUqFFJ/u8fUKVSqfM0AMD+qFarmTBhQv/reIkE4Ouw523fSqUiAAGgwZT88a0y3/gGACiYAAQAKIwABAAojAAEACiMAAQAKIwABAAojAAEACiMAAQAKIwLQQMAh5Tevt6s6VqTrTu3ZtyocZk6cWpamlvqPdaQIgABgEPG8g3LM3/l/Gyubu5f1lHpyOIZizNr0qw6Tja0eAsYADgkLN+wPHOWzhkQf0nybPXZzFk6J8s3LK/TZEOPAAQA6q63rzfzV85PLbW91u1ZtmDlgvT29Q72aEOSAAQA6m5N15q9zvy9XC21bKpuypquNYM41dAlAAGAutu6c+sB3Y7fTQACAHU3btS4A7odv5sABADqburEqemodKQpTftc35SmTKhMyNSJUwd5sqFJAAIAddfS3JLFMxYnyV4RuOfnG2bc4HqAB4gABAAOCbMmzcqyC5bl2MqxA5Z3VDqy7IJlrgN4ADXVarW9/96a/VKtVtPa2pqenp5UKpV6jwMAQ8LB/iYQr9++CQQAOMS0NLfk7OPPrvcYQ5q3gAEACiMAAQAKIwABAAojAAEACiMAAQAKIwABAAojAAEACiMAAQAKIwABAAojAAEACtOQAXj88cenqalpr9u8efOSJC+88ELmzZuXo48+OkcddVRmz56dbdu2DfgdXV1dmTlzZo444oiMHTs2V111VV566aV67A4AwKBqyAB87LHHsnXr1v7bqlWrkiQf/vCHkyRXXHFF7r777tx5551ZvXp1tmzZklmzZvXfv7e3NzNnzszu3bvz8MMP57bbbsuSJUtyzTXX1GV/AAAGU1OtVqvVe4jXa8GCBVmxYkWefvrpVKvVHHPMMbn99tszZ86cJMnPf/7zTJo0KWvXrs2UKVNyzz335AMf+EC2bNmStra2JMnNN9+cz33uc/n1r3+dESNG7NfjVqvVtLa2pqenJ5VK5aDtHwBw4Hj9btAzgC+3e/fufOc738nFF1+cpqamrFu3Li+++GKmTZvWv83JJ5+ciRMnZu3atUmStWvX5tRTT+2PvySZPn16qtVqnnzyyVd9rF27dqVarQ64AQA0moYPwO9973vZsWNH/vzP/zxJ0t3dnREjRmT06NEDtmtra0t3d3f/Ni+Pvz3r96x7NYsWLUpra2v/bcKECQduRwAABknDB+C3v/3tnHfeeRk/fvxBf6yFCxemp6en/7Zp06aD/pgAAAfasHoP8Hr86le/yv3335/ly5f3L2tvb8/u3buzY8eOAWcBt23blvb29v5tfvKTnwz4XXv+SnjPNvsycuTIjBw58gDuAQDA4GvoM4C33nprxo4dm5kzZ/YvO+OMMzJ8+PA88MAD/cs2btyYrq6udHZ2Jkk6Ozuzfv36bN++vX+bVatWpVKpZPLkyYO3AwAAddCwZwD7+vpy6623Zu7cuRk27P/vRmtray655JJceeWVGTNmTCqVSi6//PJ0dnZmypQpSZJzzz03kydPzkUXXZTrrrsu3d3dufrqqzNv3jxn+ACAIa9hA/D+++9PV1dXLr744r3WXX/99Wlubs7s2bOza9euTJ8+PTfeeGP/+paWlqxYsSKXXnppOjs7c+SRR2bu3Lm59tprB3MXAADqYkhcB7BeXEcIABqP1+8G/wwgAAB/OAEIAFAYAQgAUBgBCABQGAEIAFAYAQgAUBgBCABQGAEIAFAYAQgAUBgBCABQGAEIAFAYAQgAUBgBCABQGAEIAFAYAQgAUBgBCABQGAEIAFAYAQgAUBgBCABQGAEIAFAYAQgAUBgBCABQGAEIAFAYAQgAUBgBCABQGAEIAFAYAQgAUBgBCABQGAEIAFAYAQgAUBgBCABQGAEIAFAYAQgAUBgBCABQGAEIAFAYAQgAUBgBCABQmGH1HgAAGDy9fb1Z07UmW3duzbhR4zJ14tS0NLfUeywGmQAEgEIs37A881fOz+bq5v5lHZWOLJ6xOLMmzarjZAw2bwEDQAGWb1ieOUvnDIi/JHm2+mzmLJ2T5RuW12ky6kEAAsAQ19vXm/kr56eW2l7r9ixbsHJBevt6B3s06kQAAsAQt6ZrzV5n/l6ullo2VTdlTdeaQZyKehKAADDEbd259YBuR+MTgAAwxI0bNe6AbkfjE4AAMMRNnTg1HZWONKVpn+ub0pQJlQmZOnHqIE9GvQhAABjiWppbsnjG4iTZKwL3/HzDjBtcD7AgAhAACjBr0qwsu2BZjq0cO2B5R6Ujyy5Y5jqAhWmq1Wp7/004+6Varaa1tTU9PT2pVCr1HgcAfi/fBOL1O/FNIABQlJbmlpx9/Nn1HoM68xYwAEBhBCAAQGEEIABAYQQgAEBhBCAAQGEEIABAYQQgAEBhBCAAQGEEIABAYQQgAEBhGjYAn3322fzZn/1Zjj766Bx++OE59dRT8/jjj/evr9VqueaaazJu3LgcfvjhmTZtWp5++ukBv+M3v/lNLrzwwlQqlYwePTqXXHJJnnvuucHeFQCAQdWQAfjb3/4273znOzN8+PDcc889eeqpp/LVr341b3jDG/q3ue666/K1r30tN998cx599NEceeSRmT59el544YX+bS688MI8+eSTWbVqVVasWJEf/ehH+dSnPlWPXQIAGDRNtVqtVu8h/lB//dd/nR//+MdZs2bNPtfXarWMHz8+f/VXf5XPfOYzSZKenp60tbVlyZIl+ehHP5oNGzZk8uTJeeyxx/KOd7wjSbJy5cq8//3vz+bNmzN+/PjfO0e1Wk1ra2t6enpSqVQO3A4CAAeN1+8GPQP4b//2b3nHO96RD3/4wxk7dmze9ra35Zvf/Gb/+meeeSbd3d2ZNm1a/7LW1taceeaZWbt2bZJk7dq1GT16dH/8Jcm0adPS3NycRx99dJ+Pu2vXrlSr1QE3AIBG05AB+N///d+56aab8qY3vSn33ntvLr300vzlX/5lbrvttiRJd3d3kqStrW3A/dra2vrXdXd3Z+zYsQPWDxs2LGPGjOnf5pUWLVqU1tbW/tuECRMO9K4BABx0DRmAfX19efvb354vfelLedvb3pZPfepT+eQnP5mbb775oD7uwoUL09PT03/btGnTQX08AICDoSEDcNy4cZk8efKAZZMmTUpXV1eSpL29PUmybdu2Adts27atf117e3u2b98+YP1LL72U3/zmN/3bvNLIkSNTqVQG3AAAGk1DBuA73/nObNy4ccCy//qv/8pxxx2XJDnhhBPS3t6eBx54oH99tVrNo48+ms7OziRJZ2dnduzYkXXr1vVv8+CDD6avry9nnnnmIOwFAEB9DKv3AK/FFVdckbPOOitf+tKXcsEFF+QnP/lJbrnlltxyyy1JkqampixYsCB/93d/lze96U054YQT8jd/8zcZP358zj///CT/d8ZwxowZ/W8dv/jii7nsssvy0Y9+dL/+AhgAoFE15GVgkmTFihVZuHBhnn766Zxwwgm58sor88lPfrJ/fa1Wy+c///nccsst2bFjR971rnflxhtvzJvf/Ob+bX7zm9/ksssuy913353m5ubMnj07X/va13LUUUft1wz+jBwAGo/X7wYOwEOBf0AA0Hi8fjfoZwABAHjtBCAAQGEEIABAYQQgAEBhBCAAQGEEIABAYQQgAEBhBCAAQGEEIABAYQQgAEBhBCAAQGEEIABAYQQgAEBhBCAAQGEEIABAYQQgAEBhBCAAQGEEIABAYQQgAEBhBCAAQGEEIABAYQQgAEBhBCAAQGEEIABAYQQgAEBhBCAAQGEEIABAYQQgAEBhBCAAQGEEIABAYQQgAEBhBCAAQGEEIABAYQQgAEBhBCAAQGEEIABAYQQgAEBhBCAAQGEEIABAYQQgAEBhBCAAQGEEIABAYQQgAEBhBCAAQGEEIABAYQQgAEBhBCAAQGEEIABAYQQgAEBhBCAAQGEEIABAYQQgAEBhBCAAQGEEIABAYQQgAEBhBCAAQGEEIABAYQQgAEBhBCAAQGEaMgC/8IUvpKmpacDt5JNP7l//wgsvZN68eTn66KNz1FFHZfbs2dm2bduA39HV1ZWZM2fmiCOOyNixY3PVVVflpZdeGuxdAQAYdMPqPcBrdcopp+T+++/v/3nYsP+/K1dccUV+8IMf5M4770xra2suu+yyzJo1Kz/+8Y+TJL29vZk5c2ba29vz8MMPZ+vWrfn4xz+e4cOH50tf+tKg7wsAwGBq2AAcNmxY2tvb91re09OTb3/727n99ttzzjnnJEluvfXWTJo0KY888kimTJmS++67L0899VTuv//+tLW15fTTT88Xv/jFfO5zn8sXvvCFjBgxYrB3BwBg0DTkW8BJ8vTTT2f8+PF54xvfmAsvvDBdXV1JknXr1uXFF1/MtGnT+rc9+eSTM3HixKxduzZJsnbt2px66qlpa2vr32b69OmpVqt58sknX/Uxd+3alWq1OuAGANBoGjIAzzzzzCxZsiQrV67MTTfdlGeeeSZTp07Nzp07093dnREjRmT06NED7tPW1pbu7u4kSXd394D427N+z7pXs2jRorS2tvbfJkyYcGB3DABgEDTkW8DnnXde/3+fdtppOfPMM3Pcccdl6dKlOfzwww/a4y5cuDBXXnll/8/ValUEAgANpyHPAL7S6NGj8+Y3vzm/+MUv0t7ent27d2fHjh0Dttm2bVv/Zwbb29v3+qvgPT/v63OFe4wcOTKVSmXADQCg0QyJAHzuuefyy1/+MuPGjcsZZ5yR4cOH54EHHuhfv3HjxnR1daWzszNJ0tnZmfXr12f79u3926xatSqVSiWTJ08e9PkBAAZTQ74F/JnPfCYf/OAHc9xxx2XLli35/Oc/n5aWlnzsYx9La2trLrnkklx55ZUZM2ZMKpVKLr/88nR2dmbKlClJknPPPTeTJ0/ORRddlOuuuy7d3d25+uqrM2/evIwcObLOewcAcHA1ZABu3rw5H/vYx/I///M/OeaYY/Kud70rjzzySI455pgkyfXXX5/m5ubMnj07u3btyvTp03PjjTf237+lpSUrVqzIpZdems7Ozhx55JGZO3durr322nrtEgDAoGmq1Wq1eg/RqKrValpbW9PT0+PzgADQILx+D5HPAAIAsP8EIABAYRryM4AAL9fb15s1XWuydefWjBs1LlMnTk1Lc0u9xwI4ZAlAoKEt37A881fOz+bq5v5lHZWOLJ6xOLMmzarjZACHLm8BAw1r+YblmbN0zoD4S5Jnq89mztI5Wb5heZ0mAzi0CUCgIfX29Wb+yvmpZe8LGexZtmDlgvT29Q72aACHPAEINKQ1XWv2OvP3crXUsqm6KWu61gziVACNQQACDWnrzq0HdDuAkghAoCGNGzXugG4HUBIBCDSkqROnpqPSkaY07XN9U5oyoTIhUydOHeTJAA59AhBoSC3NLVk8Y3GS7BWBe36+YcYNrgcIsA8CEGhYsybNyrILluXYyrEDlndUOrLsgmWuAwjwKppqtdre11Bgv/gyaTg0+CYQ4A/h9ds3gQBDQEtzS84+/ux6jwHQMLwFDABQGAEIAFAYAQgAUBgBCABQGAEIAFAYAQgAUBgBCABQGAEIAFAYAQgAUBgBCABQGAEIAFAYAQgAUBgBCABQGAEIAFAYAQgAUBgBCABQGAEIAFAYAQgAUBgBCABQGAEIAFAYAQgAUBgBCABQGAEIAFCYYfUeAIChqbevN2u61mTrzq0ZN2pcpk6cmpbmlnqPBUQAAnAQLN+wPPNXzs/m6ub+ZR2VjiyesTizJs2q42RA4i1gAA6w5RuWZ87SOQPiL0merT6bOUvnZPmG5XWaDNhDAAJwwPT29Wb+yvmppbbXuj3LFqxckN6+3sEeDXgZAQjAAbOma81eZ/5erpZaNlU3ZU3XmkGcCnglAQjAAbN159YDuh1wcAhAAA6YcaPGHdDtgINDAAJwwEydODUdlY40pWmf65vSlAmVCZk6ceogTwa8nAAE4IBpaW7J4hmLk2SvCNzz8w0zbnA9QKgzAQjAATVr0qwsu2BZjq0cO2B5R6Ujyy5Y5jqAcAhoqtVqe/+tPvulWq2mtbU1PT09qVQq9R4H4JDim0A4VHn99k0gABwkLc0tOfv4s+s9BrAP3gIGACiMAAQAKIwABAAojAAEACiMAAQAKIwABAAojAAEACiMAAQAKIwABAAojAAEACjMkAjAL3/5y2lqasqCBQv6l73wwguZN29ejj766Bx11FGZPXt2tm3bNuB+XV1dmTlzZo444oiMHTs2V111VV566aVBnh4AYHA1fAA+9thj+cY3vpHTTjttwPIrrrgid999d+68886sXr06W7ZsyaxZs/rX9/b2ZubMmdm9e3cefvjh3HbbbVmyZEmuueaawd4FAIBB1dAB+Nxzz+XCCy/MN7/5zbzhDW/oX97T05Nvf/vb+Yd/+Iecc845OeOMM3Lrrbfm4YcfziOPPJIkue+++/LUU0/lO9/5Tk4//fScd955+eIXv5ivf/3r2b17d712CQDgoGvoAJw3b15mzpyZadOmDVi+bt26vPjiiwOWn3zyyZk4cWLWrl2bJFm7dm1OPfXUtLW19W8zffr0VKvVPPnkk/t8vF27dqVarQ64AQA0mmH1HuC1uuOOO/LTn/40jz322F7ruru7M2LEiIwePXrA8ra2tnR3d/dv8/L427N+z7p9WbRoUf72b//2AEwPAFA/DXkGcNOmTZk/f37+9V//NYcddtigPe7ChQvT09PTf9u0adOgPTYAwIHSkAG4bt26bN++PW9/+9szbNiwDBs2LKtXr87Xvva1DBs2LG1tbdm9e3d27Ngx4H7btm1Le3t7kqS9vX2vvwre8/OebV5p5MiRqVQqA24AAI2mIQPwve99b9avX58nnnii//aOd7wjF154Yf9/Dx8+PA888ED/fTZu3Jiurq50dnYmSTo7O7N+/fps3769f5tVq1alUqlk8uTJg75PAACDpSE/Azhq1Ki85S1vGbDsyCOPzNFHH92//JJLLsmVV16ZMWPGpFKp5PLLL09nZ2emTJmSJDn33HMzefLkXHTRRbnuuuvS3d2dq6++OvPmzcvIkSMHfZ8AAAZLQwbg/rj++uvT3Nyc2bNnZ9euXZk+fXpuvPHG/vUtLS1ZsWJFLr300nR2dubII4/M3Llzc+2119ZxagCAg6+pVqvV6j1Eo6pWq2ltbU1PT4/PAwJAg/D63aCfAQQA4LUTgAAAhRGAAACFEYAAAIURgAAAhRGAAACFEYAAAIURgAAAhRGAAACFEYAAAIURgAAAhRGAAACFEYAAAIURgAAAhRGAAACFEYAAAIURgAAAhRGAAACFEYAAAIURgAAAhRGAAACFEYAAAIURgAAAhRGAAACFEYAAAIURgAAAhRGAAACFEYAAAIURgAAAhRGAAACFEYAAAIURgAAAhRGAAACFEYAAAIURgAAAhRGAAACFEYAAAIURgAAAhRGAAACFEYAAAIURgAAAhRGAAACFEYAAAIURgAAAhRGAAACFEYAAAIURgAAAhRGAAACFEYAAAIURgAAAhRGAAACFEYAAAIURgAAAhRGAAACFEYAAAIURgAAAhRGAAACFEYAAAIUZVu8BgAOnt683a7rWZOvOrRk3alymTpyaluaWeo8FwCGmIc8A3nTTTTnttNNSqVRSqVTS2dmZe+65p3/9Cy+8kHnz5uXoo4/OUUcdldmzZ2fbtm0DfkdXV1dmzpyZI444ImPHjs1VV12Vl156abB3BQ6Y5RuW5/jFx+c9t70nf7r8T/Oe296T4xcfn+Ubltd7NAAOMQ0ZgB0dHfnyl7+cdevW5fHHH88555yTD33oQ3nyySeTJFdccUXuvvvu3HnnnVm9enW2bNmSWbNm9d+/t7c3M2fOzO7du/Pwww/ntttuy5IlS3LNNdfUa5fgdVm+YXnmLJ2TzdXNA5Y/W302c5bOEYEADNBUq9Vq9R7iQBgzZky+8pWvZM6cOTnmmGNy++23Z86cOUmSn//855k0aVLWrl2bKVOm5J577skHPvCBbNmyJW1tbUmSm2++OZ/73Ofy61//OiNGjNivx6xWq2ltbU1PT08qlcpB2zf4XXr7enP84uP3ir89mtKUjkpHnpn/jLeDAeL1O2nQM4Av19vbmzvuuCPPP/98Ojs7s27durz44ouZNm1a/zYnn3xyJk6cmLVr1yZJ1q5dm1NPPbU//pJk+vTpqVar/WcR92XXrl2pVqsDblBva7rWvGr8JUkttWyqbsqarjWDOBUAh7KGDcD169fnqKOOysiRI/PpT386d911VyZPnpzu7u6MGDEio0ePHrB9W1tburu7kyTd3d0D4m/P+j3rXs2iRYvS2traf5swYcKB3Sl4Dbbu3HpAtwNg6GvYADzppJPyxBNP5NFHH82ll16auXPn5qmnnjqoj7lw4cL09PT03zZt2nRQHw/2x7hR4w7odgAMfQ17GZgRI0bkxBNPTJKcccYZeeyxx7J48eJ85CMfye7du7Njx44BZwG3bduW9vb2JEl7e3t+8pOfDPh9e/5KeM82+zJy5MiMHDnyAO8JvD5TJ05NR6Ujz1afTS17f6R3z2cAp06cWofpADgUNewZwFfq6+vLrl27csYZZ2T48OF54IEH+tdt3LgxXV1d6ezsTJJ0dnZm/fr12b59e/82q1atSqVSyeTJkwd9dng9WppbsnjG4iT/F3svt+fnG2bc4A9AAOjXkGcAFy5cmPPOOy8TJ07Mzp07c/vtt+ehhx7Kvffem9bW1lxyySW58sorM2bMmFQqlVx++eXp7OzMlClTkiTnnntuJk+enIsuuijXXXdduru7c/XVV2fevHnO8NGQZk2alWUXLMv8lfMH/EFIR6UjN8y4IbMmzfod9wagNA0ZgNu3b8/HP/7xbN26Na2trTnttNNy77335n3ve1+S5Prrr09zc3Nmz56dXbt2Zfr06bnxxhv779/S0pIVK1bk0ksvTWdnZ4488sjMnTs31157bb12CV63WZNm5UMnfcg3gQDwew2Z6wDWg+sIAUDj8fo9hD4DCADA/hGAAACFEYAAAIURgAAAhRGAAACFEYAAAIURgAAAhRGAAACFEYAAAIURgAAAhRGAAACFEYAAAIURgAAAhRGAAACFEYAAAIURgAAAhRGAAACFEYAAAIURgAAAhRGAAACFEYAAAIURgAAAhRGAAACFGVbvAdhbb19v1nStydadWzNu1LhMnTg1Lc0t9R4LABgiBOAhZvmG5Zm/cn42Vzf3L+uodGTxjMWZNWlWHScDAIYKbwEfQpZvWJ45S+cMiL8kebb6bOYsnZPlG5bXaTIAYCgRgIeI3r7ezF85P7XU9lq3Z9mClQvS29c72KMBAEOMADxErOlas9eZv5erpZZN1U1Z07VmEKcCAIYiAXiI2Lpz6wHdDgDg1QjAQ8S4UeMO6HYAAK9GAB4ipk6cmo5KR5rStM/1TWnKhMqETJ04dZAnAwCGGgF4iGhpbsniGYuTZK8I3PPzDTNucD1AAOB1E4CHkFmTZmXZBctybOXYAcs7Kh1ZdsEy1wEEAA6Iplqttvd1R9gv1Wo1ra2t6enpSaVSOWC/1zeBAMDBc7BevxuJbwI5BLU0t+Ts48+u9xgAwBDlLWAAgMIIQACAwghAAIDCCEAAgMIIQACAwghAAIDCCEAAgMIIQACAwghAAIDC+CaQ12HPt+hVq9U6TwIA7K89r9slfxuuAHwddu7cmSSZMGFCnScBAP5QO3fuTGtra73HqIumWsn5+zr19fVly5YtGTVqVJqamg7o765Wq5kwYUI2bdpU7BdVH4ocl0OXY3NoclwOTaUfl1qtlp07d2b8+PFpbi7z03DOAL4Ozc3N6ejoOKiPUalUinxyHuocl0OXY3NoclwOTSUfl1LP/O1RZvYCABRMAAIAFEYAHqJGjhyZz3/+8xk5cmS9R+FlHJdDl2NzaHJcDk2OC/4IBACgMM4AAgAURgACABRGAAIAFEYAAgAURgDWwY9+9KN88IMfzPjx49PU1JTvfe97v/c+Dz30UN7+9rdn5MiROfHEE7NkyZKDPmeJ/tBj89BDD6WpqWmvW3d39+AMXIhFixblj//4jzNq1KiMHTs2559/fjZu3Ph773fnnXfm5JNPzmGHHZZTTz01//7v/z4I05bjtRyXJUuW7PV8OeywwwZp4nLcdNNNOe200/ov9NzZ2Zl77rnnd97H86UsArAOnn/++bz1rW/N17/+9f3a/plnnsnMmTPznve8J0888UQWLFiQT3ziE7n33nsP8qTl+UOPzR4bN27M1q1b+29jx449SBOWafXq1Zk3b14eeeSRrFq1Ki+++GLOPffcPP/88696n4cffjgf+9jHcskll+Q///M/c/755+f888/Pz372s0GcfGh7Lccl+b9vn3j58+VXv/rVIE1cjo6Ojnz5y1/OunXr8vjjj+ecc87Jhz70oTz55JP73N7zpUA16ipJ7a677vqd23z2s5+tnXLKKQOWfeQjH6lNnz79IE7G/hybH/7wh7Uktd/+9reDMhP/Z/v27bUktdWrV7/qNhdccEFt5syZA5adeeaZtb/4i7842OMVa3+Oy6233lprbW0dvKHo94Y3vKH2rW99a5/rPF/K4wxgA1i7dm2mTZs2YNn06dOzdu3aOk3EK51++ukZN25c3ve+9+XHP/5xvccZ8np6epIkY8aMedVtPG8G3/4clyR57rnnctxxx2XChAm/86wUB0Zvb2/uuOOOPP/88+ns7NznNp4v5RGADaC7uzttbW0DlrW1taVareZ///d/6zQVSTJu3LjcfPPN+e53v5vvfve7mTBhQs4+++z89Kc/rfdoQ1ZfX18WLFiQd77znXnLW97yqtu92vPG5zMPjv09LieddFL+6Z/+Kd///vfzne98J319fTnrrLOyefPmQZy2DOvXr89RRx2VkSNH5tOf/nTuuuuuTJ48eZ/ber6UZ1i9B4BGdtJJJ+Wkk07q//mss87KL3/5y1x//fX5l3/5lzpONnTNmzcvP/vZz/If//Ef9R6Fl9nf49LZ2TngLNRZZ52VSZMm5Rvf+Ea++MUvHuwxi3LSSSfliSeeSE9PT5YtW5a5c+dm9erVrxqBlMUZwAbQ3t6ebdu2DVi2bdu2VCqVHH744XWailfzJ3/yJ/nFL35R7zGGpMsuuywrVqzID3/4w3R0dPzObV/tedPe3n4wRyzSH3JcXmn48OF529ve5jlzEIwYMSInnnhizjjjjCxatChvfetbs3jx4n1u6/lSHgHYADo7O/PAAw8MWLZq1apX/SwH9fXEE09k3Lhx9R5jSKnVarnsssty11135cEHH8wJJ5zwe+/jeXPwvZbj8kq9vb1Zv36958wg6Ovry65du/a5zvOlPN4CroPnnntuwP/tPvPMM3niiScyZsyYTJw4MQsXLsyzzz6bf/7nf06SfPrTn84//uM/5rOf/WwuvvjiPPjgg1m6dGl+8IMf1GsXhqw/9NjccMMNOeGEE3LKKafkhRdeyLe+9a08+OCDue++++q1C0PSvHnzcvvtt+f73/9+Ro0a1f+5pNbW1v6z4B//+Mdz7LHHZtGiRUmS+fPn593vfne++tWvZubMmbnjjjvy+OOP55Zbbqnbfgw1r+W4XHvttZkyZUpOPPHE7NixI1/5ylfyq1/9Kp/4xCfqth9D0cKFC3Peeedl4sSJ2blzZ26//fY89NBD/ZcP83zBZWDqYM+lQ155mzt3bq1Wq9Xmzp1be/e7373XfU4//fTaiBEjam984xtrt95666DPXYI/9Nj8/d//fe2P/uiPaocddlhtzJgxtbPPPrv24IMP1mf4IWxfxyTJgOfBu9/97v7jtMfSpUtrb37zm2sjRoyonXLKKbUf/OAHgzv4EPdajsuCBQtqEydOrI0YMaLW1tZWe//731/76U9/OvjDD3EXX3xx7bjjjquNGDGidswxx9Te+9731u67777+9Z4vNNVqtdpgBicAAPXlM4AAAIURgAAAhRGAAACFEYAAAIURgAAAhRGAAACFEYAAAIURgAAAhRGAAACFEYAAAIURgAAAhRGAAACFEYAAAIURgAAAhRGAAACFEYAAAIURgAAAhRGAAACFEYAAAIURgAAAhRGAAACFEYAAAIURgAAAhRGAAACFEYAAAIURgAAAhRGAAACFEYAAAIURgAAAhRGAAACFEYAAAIX5f5A9VA0CW34RAAAAAElFTkSuQmCC' width=640.0/>\n",
              "            </div>\n",
              "        "
            ],
            "application/vnd.jupyter.widget-view+json": {
              "version_major": 2,
              "version_minor": 0,
              "model_id": "850dbe4097b54f089618ca4b39f08da9"
            }
          },
          "metadata": {}
        }
      ],
      "source": [
        "plt.scatter(x_train, y_train, marker='o', c='g')"
      ]
    },
    {
      "cell_type": "code",
      "execution_count": null,
      "metadata": {
        "colab": {
          "base_uri": "https://localhost:8080/",
          "height": 34
        },
        "id": "u3NxA7kuJycA",
        "outputId": "ff6873e5-2fa2-4965-a1bf-c3039840bf7d"
      },
      "outputs": [
        {
          "output_type": "execute_result",
          "data": {
            "text/plain": [
              "Text(38.347222222222214, 0.5, 'House Price')"
            ]
          },
          "metadata": {},
          "execution_count": 18
        }
      ],
      "source": [
        "plt.title(\"House Price data\")\n",
        "plt.xlabel(\"House Size\")\n",
        "plt.ylabel(\"House Price\")"
      ]
    },
    {
      "cell_type": "code",
      "execution_count": null,
      "metadata": {
        "colab": {
          "base_uri": "https://localhost:8080/",
          "height": 17,
          "referenced_widgets": [
            "850dbe4097b54f089618ca4b39f08da9"
          ]
        },
        "id": "kfWzo3PEKOUW",
        "outputId": "c91ea447-26e2-4501-aeda-8ec25f6ea713"
      },
      "outputs": [
        {
          "output_type": "display_data",
          "data": {
            "text/plain": [
              "Canvas(toolbar=Toolbar(toolitems=[('Home', 'Reset original view', 'home', 'home'), ('Back', 'Back to previous …"
            ],
            "image/png": "[encoded data removed]",
            "text/html": [
              "\n",
              "            <div style=\"display: inline-block;\">\n",
              "                <div class=\"jupyter-widgets widget-label\" style=\"text-align: center;\">\n",
              "                    Figure\n",
              "                </div>\n",
              "                <img src='data:image/png;base64,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' width=640.0/>\n",
              "            </div>\n",
              "        "
            ],
            "application/vnd.jupyter.widget-view+json": {
              "version_major": 2,
              "version_minor": 0,
              "model_id": "850dbe4097b54f089618ca4b39f08da9"
            }
          },
          "metadata": {}
        }
      ],
      "source": [
        "plt.show()"
      ]
    },
    {
      "cell_type": "code",
      "execution_count": null,
      "metadata": {
        "colab": {
          "base_uri": "https://localhost:8080/",
          "height": 228
        },
        "id": "YdVlx6d4NTKz",
        "outputId": "2d398478-0b3a-4703-ecb9-0399d9e66c7a"
      },
      "outputs": [
        {
          "output_type": "stream",
          "name": "stdout",
          "text": [
            "Requirement already satisfied: matplotlib in /usr/local/lib/python3.10/dist-packages (3.7.1)\n",
            "Requirement already satisfied: contourpy>=1.0.1 in /usr/local/lib/python3.10/dist-packages (from matplotlib) (1.2.1)\n",
            "Requirement already satisfied: cycler>=0.10 in /usr/local/lib/python3.10/dist-packages (from matplotlib) (0.12.1)\n",
            "Requirement already satisfied: fonttools>=4.22.0 in /usr/local/lib/python3.10/dist-packages (from matplotlib) (4.51.0)\n",
            "Requirement already satisfied: kiwisolver>=1.0.1 in /usr/local/lib/python3.10/dist-packages (from matplotlib) (1.4.5)\n",
            "Requirement already satisfied: numpy>=1.20 in /usr/local/lib/python3.10/dist-packages (from matplotlib) (1.25.2)\n",
            "Requirement already satisfied: packaging>=20.0 in /usr/local/lib/python3.10/dist-packages (from matplotlib) (24.0)\n",
            "Requirement already satisfied: pillow>=6.2.0 in /usr/local/lib/python3.10/dist-packages (from matplotlib) (9.4.0)\n",
            "Requirement already satisfied: pyparsing>=2.3.1 in /usr/local/lib/python3.10/dist-packages (from matplotlib) (3.1.2)\n",
            "Requirement already satisfied: python-dateutil>=2.7 in /usr/local/lib/python3.10/dist-packages (from matplotlib) (2.8.2)\n",
            "Requirement already satisfied: six>=1.5 in /usr/local/lib/python3.10/dist-packages (from python-dateutil>=2.7->matplotlib) (1.16.0)\n"
          ]
        }
      ],
      "source": [
        "!pip install matplotlib"
      ]
    },
    {
      "cell_type": "code",
      "execution_count": null,
      "metadata": {
        "colab": {
          "base_uri": "https://localhost:8080/",
          "height": 17,
          "referenced_widgets": [
            "850dbe4097b54f089618ca4b39f08da9"
          ]
        },
        "id": "3zHGYDsNKyh-",
        "outputId": "c0a725c9-ea96-4ba3-9139-9dc9eb999334"
      },
      "outputs": [
        {
          "output_type": "display_data",
          "data": {
            "text/plain": [
              "Canvas(toolbar=Toolbar(toolitems=[('Home', 'Reset original view', 'home', 'home'), ('Back', 'Back to previous …"
            ],
            "image/png": "[encoded data removed]",
            "text/html": [
              "\n",
              "            <div style=\"display: inline-block;\">\n",
              "                <div class=\"jupyter-widgets widget-label\" style=\"text-align: center;\">\n",
              "                    Figure\n",
              "                </div>\n",
              "                <img src='data:image/png;base64,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' width=640.0/>\n",
              "            </div>\n",
              "        "
            ],
            "application/vnd.jupyter.widget-view+json": {
              "version_major": 2,
              "version_minor": 0,
              "model_id": "850dbe4097b54f089618ca4b39f08da9"
            }
          },
          "metadata": {}
        }
      ],
      "source": [
        "import matplotlib.pyplot as plt\n",
        "\n",
        "x = [1, 2, 3, 4, 5]\n",
        "y = [2, 4, 5, 8, 10]\n",
        "\n",
        "plt.plot(x, y)\n",
        "\n",
        "plt.show()"
      ]
    },
    {
      "cell_type": "markdown",
      "metadata": {
        "id": "Tz1wLNAhCY2u"
      },
      "source": [
        "Week 2 lab 1\n",
        "Python, NumPy and Vectorization"
      ]
    },
    {
      "cell_type": "code",
      "execution_count": null,
      "metadata": {
        "id": "OvC_wR7KEivx"
      },
      "outputs": [],
      "source": [
        "import numpy as np"
      ]
    },
    {
      "cell_type": "code",
      "execution_count": null,
      "metadata": {
        "colab": {
          "base_uri": "https://localhost:8080/",
          "height": 69
        },
        "id": "Zn4zHQcbCfiW",
        "outputId": "af48f551-13f6-452f-cade-7760b5de4449"
      },
      "outputs": [
        {
          "output_type": "stream",
          "name": "stdout",
          "text": [
            "array is [0. 0. 0. 0.]\n",
            "array data type float64\n",
            "array shape (4,)\n"
          ]
        }
      ],
      "source": [
        "#Creates a one-dimensional array with 4 elements, all initialized to 0.\n",
        "array = np.zeros(4)\n",
        "print(f\"array is {array}\")\n",
        "print(f\"array data type {array.dtype}\")\n",
        "print(f\"array shape {array.shape}\")"
      ]
    },
    {
      "cell_type": "markdown",
      "metadata": {
        "id": "O9UGlaSQE213"
      },
      "source": [
        "it takes zeros and ones"
      ]
    },
    {
      "cell_type": "code",
      "execution_count": null,
      "metadata": {
        "colab": {
          "base_uri": "https://localhost:8080/",
          "height": 69
        },
        "id": "h5APl3xmEuHm",
        "outputId": "c6fc498d-ec2b-4564-829c-ec551a8712a2"
      },
      "outputs": [
        {
          "output_type": "stream",
          "name": "stdout",
          "text": [
            "array is [1. 1. 1. 1.]\n",
            "array data type float64\n",
            "array shape (4,)\n"
          ]
        }
      ],
      "source": [
        "# Create a vector of ones\n",
        "array = np.ones(4)\n",
        "print(f\"array is {array}\")\n",
        "print(f\"array data type {array.dtype}\")\n",
        "print(f\"array shape {array.shape}\")"
      ]
    },
    {
      "cell_type": "code",
      "execution_count": null,
      "metadata": {
        "colab": {
          "base_uri": "https://localhost:8080/",
          "height": 104
        },
        "id": "7Oxz-kIiE8yf",
        "outputId": "a1e96acc-8bea-4915-bd52-fc8a24f09277"
      },
      "outputs": [
        {
          "output_type": "stream",
          "name": "stdout",
          "text": [
            "array is [[1. 0. 0.]\n",
            " [0. 1. 0.]\n",
            " [0. 0. 1.]]\n",
            "array data type is float64\n",
            "array shape is (3, 3)\n"
          ]
        }
      ],
      "source": [
        "a = np.eye(3)\n",
        "print(f\"array is {a}\")\n",
        "print(f\"array data type is {a.dtype}\")\n",
        "print(f\"array shape is {a.shape}\")"
      ]
    },
    {
      "cell_type": "code",
      "execution_count": null,
      "metadata": {
        "colab": {
          "base_uri": "https://localhost:8080/",
          "height": 69
        },
        "id": "uQQJaFzPHucR",
        "outputId": "ba3cd67b-6594-4b98-a887-a7f632c073a7"
      },
      "outputs": [
        {
          "output_type": "stream",
          "name": "stdout",
          "text": [
            "array is [ 0  1  2  3  4  5  6  7  8  9 10 11 12 13 14]\n",
            "array data type is int64\n",
            "array shape is (15,)\n"
          ]
        }
      ],
      "source": [
        "n = np.arange(15)\n",
        "print(f\"array is {n}\")\n",
        "print(f\"array data type is {n.dtype}\")\n",
        "print(f\"array shape is {n.shape}\")\n"
      ]
    },
    {
      "cell_type": "markdown",
      "metadata": {
        "id": "My2Di3LrT24M"
      },
      "source": [
        "**Slicing** creates an array of indices using a set of three values (`start:stop:step`). A subset of values is also valid. Its use is best explained by example:"
      ]
    },
    {
      "cell_type": "code",
      "execution_count": null,
      "metadata": {
        "colab": {
          "base_uri": "https://localhost:8080/",
          "height": 34
        },
        "id": "uHx-mMK0R6P7",
        "outputId": "b458c40f-c82f-4348-b726-3ad2734a6cf6"
      },
      "outputs": [
        {
          "output_type": "stream",
          "name": "stdout",
          "text": [
            "print the no. spearated by 2 :  [ 0  2  4  6  8 10 12 14]\n"
          ]
        }
      ],
      "source": [
        "# access 3 elements separated by two\n",
        "access = n[0:15:2]\n",
        "print(f\"print the no. spearated by 2 : \", access)"
      ]
    },
    {
      "cell_type": "code",
      "execution_count": null,
      "metadata": {
        "colab": {
          "base_uri": "https://localhost:8080/",
          "height": 34
        },
        "id": "Iz8ma2-ESm6j",
        "outputId": "32e81474-32de-456a-d689-42354bca10b6"
      },
      "outputs": [
        {
          "output_type": "stream",
          "name": "stdout",
          "text": [
            "print the no in q [3 4 5 6 7 8 9]\n"
          ]
        }
      ],
      "source": [
        "#access 10 consecutive elements (start:stop:step)\n",
        "access = n[3:10:1]\n",
        "print(f\"print the no in q\", access)"
      ]
    },
    {
      "cell_type": "code",
      "execution_count": null,
      "metadata": {
        "colab": {
          "base_uri": "https://localhost:8080/",
          "height": 34
        },
        "id": "VkXdPlKOTAkD",
        "outputId": "847af075-db53-4f25-a925-2895933ad557"
      },
      "outputs": [
        {
          "output_type": "stream",
          "name": "stdout",
          "text": [
            "3 and above: [ 3  4  5  6  7  8  9 10 11 12 13 14]\n"
          ]
        }
      ],
      "source": [
        "# access all elements index 3 and above\n",
        "access = n[3:]\n",
        "print(f\"3 and above:\", access)"
      ]
    },
    {
      "cell_type": "code",
      "execution_count": null,
      "metadata": {
        "colab": {
          "base_uri": "https://localhost:8080/",
          "height": 34
        },
        "id": "U03jSt8nTBV7",
        "outputId": "c0f5c690-09b3-41e2-c14d-79157786d819"
      },
      "outputs": [
        {
          "output_type": "stream",
          "name": "stdout",
          "text": [
            "[0 1 2]\n"
          ]
        }
      ],
      "source": [
        "# access all elements below index 3\n",
        "access = n[:3]\n",
        "print(access)"
      ]
    },
    {
      "cell_type": "code",
      "execution_count": null,
      "metadata": {
        "colab": {
          "base_uri": "https://localhost:8080/",
          "height": 34
        },
        "id": "PUQo8o_7TD88",
        "outputId": "5741245f-0237-41ce-9346-c1124249fdeb"
      },
      "outputs": [
        {
          "output_type": "stream",
          "name": "stdout",
          "text": [
            "[ 0  1  2  3  4  5  6  7  8  9 10 11 12 13 14]\n"
          ]
        }
      ],
      "source": [
        "# access all elements\n",
        "access = n[:]\n",
        "print(access)"
      ]
    },
    {
      "cell_type": "code",
      "execution_count": null,
      "metadata": {
        "colab": {
          "base_uri": "https://localhost:8080/",
          "height": 69
        },
        "id": "DQqk58RBHwNS",
        "outputId": "5cd04b13-bc7b-42ef-e229-f2316876dcf6"
      },
      "outputs": [
        {
          "output_type": "stream",
          "name": "stdout",
          "text": [
            "array is [0.94209153 0.17450369 0.63520894 0.77622762 0.27425607]\n",
            "array type is float64\n",
            "shape is (5,)\n"
          ]
        }
      ],
      "source": [
        "#choose vector of randomly no.\n",
        "n = np.random.rand(5)\n",
        "print(f\"array is {n}\")\n",
        "print(f\"array type is {n.dtype}\")\n",
        "print(f\"shape is {n.shape}\")"
      ]
    },
    {
      "cell_type": "markdown",
      "metadata": {
        "id": "F3wigtsoUK9E"
      },
      "source": [
        "**Single vector operations**"
      ]
    },
    {
      "cell_type": "code",
      "execution_count": null,
      "metadata": {
        "colab": {
          "base_uri": "https://localhost:8080/",
          "height": 138
        },
        "id": "9FnMBlwpJAQ7",
        "outputId": "65ead2d3-0905-4ae7-b51c-8ac181d59db2"
      },
      "outputs": [
        {
          "output_type": "stream",
          "name": "stdout",
          "text": [
            "printing the no of array : [1 3 5 7 9]\n",
            "printing the data types of array : int64\n",
            "printing the shape of array : (5,)\n",
            "printing the total no of elements in array : 5\n",
            "printing the no of dimentions of array : 1\n",
            "printing the size in bytes of each element in array : 8\n",
            "printing the sum of elements in array : 25\n"
          ]
        }
      ],
      "source": [
        "z = np.array([1,3,5,7,9])\n",
        "print(f\"printing the no of array : {z}\")\n",
        "print(f\"printing the data types of array : {z.dtype}\")\n",
        "print(f\"printing the shape of array : {z.shape}\")\n",
        "print(f\"printing the total no of elements in array : {z.size}\")\n",
        "print(f\"printing the no of dimentions of array : {z.ndim}\")\n",
        "print(f\"printing the size in bytes of each element in array : {z.itemsize}\")\n",
        "print(f\"printing the sum of elements in array : {z.sum()}\")"
      ]
    },
    {
      "cell_type": "code",
      "execution_count": null,
      "metadata": {
        "colab": {
          "base_uri": "https://localhost:8080/",
          "height": 69
        },
        "id": "XSgu1jjgKYnR",
        "outputId": "2f62287b-3011-4e72-a10f-484e7006592e"
      },
      "outputs": [
        {
          "output_type": "stream",
          "name": "stdout",
          "text": [
            "z[2] = 5\n",
            "z[0] = 1\n",
            "z[3] = 7\n"
          ]
        }
      ],
      "source": [
        "print(f\"z[2] = {z[2]}\")\n",
        "print(f\"z[0] = {z[0]}\")\n",
        "print(f\"z[3] = {z[3]}\")"
      ]
    },
    {
      "cell_type": "markdown",
      "metadata": {
        "id": "lZsOEpS7RWxQ"
      },
      "source": [
        "try:\n",
        "error (out of range)\n",
        "except Exception as e:\n",
        "print(e) to print the error"
      ]
    },
    {
      "cell_type": "code",
      "execution_count": null,
      "metadata": {
        "colab": {
          "base_uri": "https://localhost:8080/",
          "height": 52
        },
        "id": "lFBvZeByRFKu",
        "outputId": "e3c18954-52bd-456a-91cf-c1fa466ccef7"
      },
      "outputs": [
        {
          "output_type": "stream",
          "name": "stdout",
          "text": [
            "The error message you'll see is:\n",
            "index 5 is out of bounds for axis 0 with size 5\n"
          ]
        }
      ],
      "source": [
        "try:\n",
        "    c = z[5]\n",
        "except Exception as e:\n",
        "    print(\"The error message you'll see is:\")\n",
        "    print(e)"
      ]
    },
    {
      "cell_type": "code",
      "execution_count": null,
      "metadata": {
        "colab": {
          "base_uri": "https://localhost:8080/",
          "height": 34
        },
        "id": "-Pf5ZltpUURp",
        "outputId": "6d969cea-f074-4a96-806b-95730d342fb0"
      },
      "outputs": [
        {
          "output_type": "stream",
          "name": "stdout",
          "text": [
            "negative of z array is [-1 -3 -5 -7 -9]\n"
          ]
        }
      ],
      "source": [
        "# negate elements of a\n",
        "\n",
        "neg = -z\n",
        "print(f\"negative of z array is {neg}\")"
      ]
    },
    {
      "cell_type": "code",
      "execution_count": null,
      "metadata": {
        "colab": {
          "base_uri": "https://localhost:8080/",
          "height": 52
        },
        "id": "Ge9fwTd-Ui0U",
        "outputId": "ce3d1def-8b9d-4754-df74-23c1ad692292"
      },
      "outputs": [
        {
          "output_type": "stream",
          "name": "stdout",
          "text": [
            "25\n",
            "25\n"
          ]
        }
      ],
      "source": [
        "# sum all elements of a, returns a scalar\n",
        "s = np.sum(z)\n",
        "print(sum(z))\n",
        "print(s)"
      ]
    },
    {
      "cell_type": "code",
      "execution_count": null,
      "metadata": {
        "colab": {
          "base_uri": "https://localhost:8080/",
          "height": 69
        },
        "id": "Q6hj-FnzVKXI",
        "outputId": "3383e4c4-24ec-4556-bddb-158fedc49996"
      },
      "outputs": [
        {
          "output_type": "stream",
          "name": "stdout",
          "text": [
            "5.0\n",
            "[ 1  9 25 49 81]\n",
            "[ 1  9 25 49 81]\n"
          ]
        }
      ],
      "source": [
        "s = np.mean(z)\n",
        "print(s)\n",
        "\n",
        "s = z ** 2\n",
        "print(s)\n",
        "\n",
        "s = z**2\n",
        "print(s)"
      ]
    },
    {
      "cell_type": "code",
      "execution_count": null,
      "metadata": {
        "id": "ahMqlyimV_9P"
      },
      "outputs": [],
      "source": [
        "new_array = np.array([2,4,6,8,10])"
      ]
    },
    {
      "cell_type": "code",
      "execution_count": null,
      "metadata": {
        "colab": {
          "base_uri": "https://localhost:8080/",
          "height": 34
        },
        "id": "n7QvwKWQVkHP",
        "outputId": "d7bdc815-4474-43de-8fbd-1c97c5aeb7a1"
      },
      "outputs": [
        {
          "output_type": "stream",
          "name": "stdout",
          "text": [
            "summation of z [1,3,5,7,9] and new_array [2,4,6,8,10] is = [ 3  7 11 15 19]\n"
          ]
        }
      ],
      "source": [
        "print(f\"summation of z [1,3,5,7,9] and new_array [2,4,6,8,10] is = {z + new_array}\")"
      ]
    },
    {
      "cell_type": "code",
      "execution_count": null,
      "metadata": {
        "colab": {
          "base_uri": "https://localhost:8080/",
          "height": 52
        },
        "id": "Xi_Byw7WWmOO",
        "outputId": "4d11dd9e-8989-45f8-cd76-78329063b0b4"
      },
      "outputs": [
        {
          "output_type": "stream",
          "name": "stdout",
          "text": [
            "the error msg is :\n",
            "operands could not be broadcast together with shapes (5,) (2,) \n"
          ]
        }
      ],
      "source": [
        "c = np.array([1,2])\n",
        "\n",
        "try:\n",
        "  d = z+c\n",
        "except Exception as e:\n",
        "  print(\"the error msg is :\")\n",
        "  print(e)"
      ]
    },
    {
      "cell_type": "code",
      "execution_count": null,
      "metadata": {
        "colab": {
          "base_uri": "https://localhost:8080/",
          "height": 34
        },
        "id": "otAqO2sKXAYU",
        "outputId": "cc696c45-07f4-460f-bde0-1d93c36a643f"
      },
      "outputs": [
        {
          "output_type": "stream",
          "name": "stdout",
          "text": [
            "[ 2 12 30 56 90]\n"
          ]
        }
      ],
      "source": [
        "print(z*new_array)"
      ]
    },
    {
      "cell_type": "code",
      "execution_count": null,
      "metadata": {
        "id": "rbT4KWWsXFbF"
      },
      "outputs": [],
      "source": [
        "def dot_vector(z, new_array):\n",
        "  result=0\n",
        "  #in the tuple that contains the dimention, create range starts from 0: , but not include the no of rows in the arrays\n",
        "  for i in range(z.shape[0]):\n",
        "\n",
        "  #[a0b0 +a1b1 +a2b2...]\n",
        "    result = result + z[i] * new_array[i]\n",
        "    return result\n"
      ]
    },
    {
      "cell_type": "code",
      "execution_count": null,
      "metadata": {
        "colab": {
          "base_uri": "https://localhost:8080/",
          "height": 52
        },
        "id": "UDeWP-FrZJBb",
        "outputId": "c8f7aedb-fa02-4193-a4d1-bc78c8314f82"
      },
      "outputs": [
        {
          "output_type": "stream",
          "name": "stdout",
          "text": [
            "2\n",
            "<function dot_vector at 0x793d207c2560>\n"
          ]
        }
      ],
      "source": [
        "#product of two vectors\n",
        "print(dot_vector(z, new_array))\n",
        "\n",
        "#hexadecimal representation of a memory address\n",
        "print(dot_vector)"
      ]
    },
    {
      "cell_type": "markdown",
      "metadata": {
        "id": "JIqnqQnJa6F8"
      },
      "source": [
        "2() :\n",
        "\n",
        "> .. to represent a function that takes two arguments.\n",
        "\n",
        "\n"
      ]
    },
    {
      "cell_type": "code",
      "execution_count": null,
      "metadata": {
        "colab": {
          "base_uri": "https://localhost:8080/",
          "height": 104
        },
        "id": "1YhLFzp9Z1NF",
        "outputId": "704ef1ac-955b-49bc-c11d-198c0c262d4c"
      },
      "outputs": [
        {
          "output_type": "stream",
          "name": "stdout",
          "text": [
            "2 ()\n",
            "###########\n",
            "[1 2] (2,)\n",
            "[1 3 5 7 9] (5,)\n",
            "[0.94209153 0.17450369 0.63520894 0.77622762 0.27425607] (5,)\n"
          ]
        }
      ],
      "source": [
        "comp = dot_vector(z, new_array)\n",
        "print(comp, comp.shape)\n",
        "\n",
        "print(\"###########\")\n",
        "print(c, c.shape)\n",
        "print(z, z.shape)\n",
        "print(n, n.shape)"
      ]
    },
    {
      "cell_type": "markdown",
      "metadata": {
        "id": "xaSEshy8b7TF"
      },
      "source": [
        "Our data will be stored in 2D arrays\n",
        "\n",
        "*   Our data will be stored in 2D arrays (matrices) called X_train.\n",
        "\n",
        "\n",
        "*   We will work with individual examples from X_train, which are 1D vectors.\n",
        "\n",
        "\n",
        "*   Many operations involve these 1D vectors, so understanding vector-vector operations is crucial.\n",
        "\n",
        "\n"
      ]
    },
    {
      "cell_type": "code",
      "execution_count": null,
      "metadata": {
        "colab": {
          "base_uri": "https://localhost:8080/",
          "height": 69
        },
        "id": "AhtEWY5Ebc8e",
        "outputId": "07613063-10fc-4a29-9e96-40f772cbbbf7"
      },
      "outputs": [
        {
          "output_type": "stream",
          "name": "stdout",
          "text": [
            "X[1] has shape (1,)\n",
            "w has shape (1,)\n",
            "c has shape ()\n"
          ]
        }
      ],
      "source": [
        "# show common Course 1 example\n",
        "X = np.array([[1],[2],[3],[4]])\n",
        "w = np.array([2])\n",
        "y = np.dot(X[1], w)\n",
        "\n",
        "print(f\"X[1] has shape {X[1].shape}\")\n",
        "print(f\"w has shape {w.shape}\")\n",
        "print(f\"c has shape {y.shape}\")"
      ]
    },
    {
      "cell_type": "code",
      "execution_count": null,
      "metadata": {
        "colab": {
          "base_uri": "https://localhost:8080/",
          "height": 34
        },
        "id": "K0bUTzEEioiB",
        "outputId": "7e6ae528-f901-472f-dfcc-30f07091f305"
      },
      "outputs": [
        {
          "output_type": "execute_result",
          "data": {
            "text/plain": [
              "5"
            ]
          },
          "metadata": {},
          "execution_count": 45
        }
      ],
      "source": [
        "x = 5\n",
        "x"
      ]
    },
    {
      "cell_type": "markdown",
      "metadata": {
        "id": "D4q7qCUu7tfm"
      },
      "source": [
        "random numbers generated by NumPy are reproducible, meaning that the same sequence of random numbers will be generated every time"
      ]
    },
    {
      "cell_type": "code",
      "execution_count": null,
      "metadata": {
        "colab": {
          "base_uri": "https://localhost:8080/",
          "height": 86
        },
        "id": "ZYmCFG-jbROT",
        "outputId": "25dbb203-7e4b-4faf-a3fe-11a471aa1e4d"
      },
      "outputs": [
        {
          "output_type": "stream",
          "name": "stdout",
          "text": [
            "[4.17022005e-01 7.20324493e-01 1.14374817e-04 ... 1.62642575e-01\n",
            " 8.55441337e-01 6.51160047e-01]\n",
            "###\n",
            "[0.49884527 0.5194437  0.9480511  ... 0.99416697 0.61599986 0.41453835]\n"
          ]
        }
      ],
      "source": [
        "np.random.seed(1)\n",
        "z = np.random.rand(10000000)  # very large arrays\n",
        "new_array = np.random.rand(10000000)\n",
        "print(z)\n",
        "print(\"###\")\n",
        "print(new_array)\n",
        "\n"
      ]
    },
    {
      "cell_type": "markdown",
      "metadata": {
        "id": "6EpgcDJ78fm2"
      },
      "source": [
        "The dot product can be used to calculate various operations such as:\n",
        "Matrix multiplication\n",
        "Vector projection\n",
        "Inner product\n",
        "Computing similarity measures"
      ]
    },
    {
      "cell_type": "code",
      "execution_count": null,
      "metadata": {
        "colab": {
          "base_uri": "https://localhost:8080/",
          "height": 34
        },
        "id": "DOiztOSW8hyt",
        "outputId": "ac1bd414-b7ff-4427-cf4e-2bd2daa36a8d"
      },
      "outputs": [
        {
          "output_type": "stream",
          "name": "stdout",
          "text": [
            "2501072.581681326\n"
          ]
        }
      ],
      "source": [
        "  import time\n",
        "  tic = time.time()  # capture start time\n",
        "  #The dot product operation calculates the sum of the products of the elements of two arrays.\n",
        "  c = np.dot(z, new_array)\n",
        "  toc = time.time()  # capture end time\n",
        "  print(c)"
      ]
    },
    {
      "cell_type": "code",
      "execution_count": null,
      "metadata": {
        "colab": {
          "base_uri": "https://localhost:8080/",
          "height": 52
        },
        "id": "7NmBR3ho9sSf",
        "outputId": "acf2c443-2961-4652-aabd-65d06a5fb476"
      },
      "outputs": [
        {
          "output_type": "stream",
          "name": "stdout",
          "text": [
            "np.dot(z, new_array) =  2501072.581681326\n",
            "np.dot(z, new_array) =  2501072.5817\n"
          ]
        }
      ],
      "source": [
        "#Using %f format specifier:\n",
        "# c = np.array([1,2])\n",
        "print(f\"np.dot(z, new_array) =  {c}\")\n",
        "\n",
        "#Converting array to scalar:\n",
        "print(f\"np.dot(z, new_array) =  {c:.4f}\")"
      ]
    },
    {
      "cell_type": "markdown",
      "metadata": {
        "id": "B8VnD-Y1-1-O"
      },
      "source": [
        "%f used to format the variable c as a floating-point number with 4 decimal places"
      ]
    },
    {
      "cell_type": "code",
      "execution_count": null,
      "metadata": {
        "colab": {
          "base_uri": "https://localhost:8080/",
          "height": 34
        },
        "id": "JEn4Us5Q-re_",
        "outputId": "f27fd86b-dbf1-40c0-ff95-1d9ce1b74426"
      },
      "outputs": [
        {
          "output_type": "stream",
          "name": "stdout",
          "text": [
            "np.dot(a, b) =  2501072.5817\n"
          ]
        }
      ],
      "source": [
        "print(f\"np.dot(a, b) =  {c:.4f}\")"
      ]
    },
    {
      "cell_type": "code",
      "execution_count": null,
      "metadata": {
        "colab": {
          "base_uri": "https://localhost:8080/",
          "height": 52
        },
        "id": "-eQj9Jr08wX2",
        "outputId": "44336822-633d-46c5-988a-54e0aefabfcb"
      },
      "outputs": [
        {
          "output_type": "stream",
          "name": "stdout",
          "text": [
            "dot_vector(z, new_array) =  0.2080\n",
            "loop version duration: 0.0856 ms \n"
          ]
        }
      ],
      "source": [
        "\n",
        "\n",
        "tic = time.time()  # capture start time\n",
        "c = dot_vector(z, new_array)\n",
        "toc = time.time()  # capture end time\n",
        "\n",
        "print(f\"dot_vector(z, new_array) =  {c:.4f}\")\n",
        "print(f\"loop version duration: {1000*(toc-tic):.4f} ms \")\n",
        "\n",
        "del(z);del(new_array)  #remove these big arrays from memory"
      ]
    },
    {
      "cell_type": "code",
      "execution_count": null,
      "metadata": {
        "colab": {
          "base_uri": "https://localhost:8080/",
          "height": 69
        },
        "id": "UNGOriwd_Dv9",
        "outputId": "d52b1db4-9c75-4ef3-a3c5-38ae0dd4a788"
      },
      "outputs": [
        {
          "output_type": "stream",
          "name": "stdout",
          "text": [
            "X[1] has shape (1,)\n",
            "w has shape (1,)\n",
            "c has shape ()\n"
          ]
        }
      ],
      "source": [
        "X = np.array([[1],[2],[3],[4]])\n",
        "w = np.array([2])\n",
        "c = np.dot(X[1], w)\n",
        "\n",
        "print(f\"X[1] has shape {X[1].shape}\")\n",
        "print(f\"w has shape {w.shape}\")\n",
        "print(f\"c has shape {c.shape}\")"
      ]
    },
    {
      "cell_type": "markdown",
      "metadata": {
        "id": "LsiGz8MJ_Ttk"
      },
      "source": [
        "## **Matrices**"
      ]
    },
    {
      "cell_type": "code",
      "execution_count": null,
      "metadata": {
        "colab": {
          "base_uri": "https://localhost:8080/",
          "height": 34
        },
        "id": "7WteakmXEvBx",
        "outputId": "37b2a046-99e8-4cef-ce29-f0248f1f5c59"
      },
      "outputs": [
        {
          "output_type": "stream",
          "name": "stdout",
          "text": [
            "[0. 0. 0. 0. 0. 0. 0. 0. 0. 0.]\n"
          ]
        }
      ],
      "source": [
        "# Create a vector of zeros\n",
        "vector = np.zeros(10)\n",
        "print(vector)"
      ]
    },
    {
      "cell_type": "code",
      "execution_count": null,
      "metadata": {
        "colab": {
          "base_uri": "https://localhost:8080/",
          "height": 104
        },
        "id": "Pow-Bh3oE3UP",
        "outputId": "c9deaae6-d842-4d20-a010-635e77dd127e"
      },
      "outputs": [
        {
          "output_type": "stream",
          "name": "stdout",
          "text": [
            "(1, 5) [[0. 0. 0. 0. 0.]]\n",
            "####\n",
            "mat shape: (2, 1)\n",
            "mat is : [[0.]\n",
            " [0.]]\n"
          ]
        }
      ],
      "source": [
        "mat = np.zeros((1, 5))\n",
        "print(mat.shape, mat)\n",
        "print(\"####\")\n",
        "mat = np.zeros((2, 1))\n",
        "print(\"mat shape:\", mat.shape)\n",
        "print(\"mat is :\", mat)"
      ]
    },
    {
      "cell_type": "code",
      "execution_count": null,
      "metadata": {
        "colab": {
          "base_uri": "https://localhost:8080/",
          "height": 34
        },
        "id": "B4WbF7QWFc3n",
        "outputId": "d20f061c-bea5-498f-b26e-bf98b0004fce"
      },
      "outputs": [
        {
          "output_type": "stream",
          "name": "stdout",
          "text": [
            "mat shape is : (1, 1), mat is : [[0.44236513]]\n"
          ]
        }
      ],
      "source": [
        "mat = np.random.random_sample((1, 1))\n",
        "print(\"mat shape is : {}, mat is : {}\".format(mat.shape, mat))"
      ]
    },
    {
      "cell_type": "code",
      "execution_count": null,
      "metadata": {
        "colab": {
          "base_uri": "https://localhost:8080/",
          "height": 121
        },
        "id": "D6f4S8CFNgCB",
        "outputId": "9ae03e62-1a9f-48a2-a9a9-88eb0bcb1e19"
      },
      "outputs": [
        {
          "output_type": "stream",
          "name": "stdout",
          "text": [
            " a shape = (3, 1), np.array: a = [[5]\n",
            " [4]\n",
            " [3]]\n",
            " a shape = (3, 1), np.array: a = [[5]\n",
            " [4]\n",
            " [3]]\n"
          ]
        }
      ],
      "source": [
        "a = np.array([[5], [4], [3]]);   print(f\" a shape = {a.shape}, np.array: a = {a}\")\n",
        "a = np.array([[5],   # One can also\n",
        "              [4],   # separate values\n",
        "              [3]]); #into separate rows\n",
        "print(f\" a shape = {a.shape}, np.array: a = {a}\")"
      ]
    },
    {
      "cell_type": "code",
      "execution_count": null,
      "metadata": {
        "colab": {
          "base_uri": "https://localhost:8080/",
          "height": 86
        },
        "id": "wIH2j1PQNplR",
        "outputId": "736397c9-a676-440b-c322-f91f6f92b448"
      },
      "outputs": [
        {
          "output_type": "stream",
          "name": "stdout",
          "text": [
            "a.shape: (3, 2), \n",
            "a= [[0 1]\n",
            " [2 3]\n",
            " [4 5]]\n"
          ]
        }
      ],
      "source": [
        "#vector indexing operations on matrices\n",
        "a = np.arange(6).reshape(-1, 2)   # Reshape the array to have 2 columns\n",
        "print(f\"a.shape: {a.shape}, \\na= {a}\")\n",
        "\n"
      ]
    },
    {
      "cell_type": "code",
      "execution_count": null,
      "metadata": {
        "colab": {
          "base_uri": "https://localhost:8080/",
          "height": 86
        },
        "id": "eIw-JdKrN3It",
        "outputId": "60c1fd5d-b142-4c2d-bfe8-159abbd09d9d"
      },
      "outputs": [
        {
          "output_type": "stream",
          "name": "stdout",
          "text": [
            "\n",
            "a[2,0].shape##:   (), a[2,0] = 4,     type(a[2,0]) = <class 'numpy.int64'> Accessing an element returns a scalar\n",
            "\n",
            "a[2].shape:   (2,), a[2]   = [4 5], type(a[2])   = <class 'numpy.ndarray'>\n"
          ]
        }
      ],
      "source": [
        "#access an element\n",
        "print(f\"\\na[2,0].shape##:   {a[2, 0].shape}, a[2,0] = {a[2, 0]},     type(a[2,0]) = {type(a[2, 0])} Accessing an element returns a scalar\\n\")\n",
        "\n",
        "#access a row\n",
        "print(f\"a[2].shape:   {a[2].shape}, a[2]   = {a[2]}, type(a[2])   = {type(a[2])}\")"
      ]
    },
    {
      "cell_type": "markdown",
      "metadata": {
        "id": "qcDtZw5CPHFp"
      },
      "source": [
        "**a[:, 2:7:1]** The first colon (:) means \"from the beginning\" and the second colon (:) means \"to the end"
      ]
    },
    {
      "cell_type": "code",
      "execution_count": null,
      "metadata": {
        "colab": {
          "base_uri": "https://localhost:8080/",
          "height": 86
        },
        "id": "TWRChKAVO1nD",
        "outputId": "e3e343db-933f-436f-ba8f-4155f7bc3c2f"
      },
      "outputs": [
        {
          "output_type": "stream",
          "name": "stdout",
          "text": [
            "a = \n",
            "[[ 0  1  2  3  4  5  6  7  8  9]\n",
            " [10 11 12 13 14 15 16 17 18 19]]\n",
            "a[0, 2:7:1] =  [2 3 4 5 6] ,  a[0, 2:7:1].shape = (5,) a 1-D array\n"
          ]
        }
      ],
      "source": [
        "#vector 2-D slicing operations\n",
        "a = np.arange(20).reshape(-1, 10)\n",
        "print(f\"a = \\n{a}\")\n",
        "\n",
        "#access 5 consecutive elements (start:stop:step)\n",
        "print(\"a[0, 2:7:1] = \", a[0, 2:7:1], \",  a[0, 2:7:1].shape =\", a[0, 2:7:1].shape, \"a 1-D array\")\n",
        "\n"
      ]
    },
    {
      "cell_type": "code",
      "execution_count": null,
      "metadata": {
        "colab": {
          "base_uri": "https://localhost:8080/",
          "height": 121
        },
        "id": "HkaouEokPwl7",
        "outputId": "b52ebe71-a514-4682-864f-ffe6b2b8e67c"
      },
      "outputs": [
        {
          "output_type": "stream",
          "name": "stdout",
          "text": [
            "a[:, 2:7:1] = \n",
            " [[ 2  3  4  5  6]\n",
            " [12 13 14 15 16]] ,  a[:, 2:7:1].shape = (2, 5) a 2-D array\n",
            "a[:,:] = \n",
            " [[ 0  1  2  3  4  5  6  7  8  9]\n",
            " [10 11 12 13 14 15 16 17 18 19]] ,  a[:,:].shape = (2, 10)\n"
          ]
        }
      ],
      "source": [
        "#access 5 consecutive elements (start:stop:step) in two rows\n",
        "print(\"a[:, 2:7:1] = \\n\", a[:, 2:7:1], \",  a[:, 2:7:1].shape =\", a[:, 2:7:1].shape, \"a 2-D array\")\n",
        "\n",
        "# access all elements\n",
        "print(\"a[:,:] = \\n\", a[:,:], \",  a[:,:].shape =\", a[:,:].shape)\n"
      ]
    },
    {
      "cell_type": "code",
      "execution_count": null,
      "metadata": {
        "colab": {
          "base_uri": "https://localhost:8080/",
          "height": 52
        },
        "id": "Zktuas0TQECu",
        "outputId": "ffe8bbd5-ec56-4f6b-d07d-e5eba393f8d0"
      },
      "outputs": [
        {
          "output_type": "stream",
          "name": "stdout",
          "text": [
            "a[1,:] =  [10 11 12 13 14 15 16 17 18 19] ,  a[1,:].shape = (10,) a 1-D array\n",
            "a[1]   =  [10 11 12 13 14 15 16 17 18 19] ,  a[1].shape   = (10,) a 1-D array\n"
          ]
        }
      ],
      "source": [
        "# access all elements in one row (very common usage)\n",
        "print(\"a[1,:] = \", a[1,:], \",  a[1,:].shape =\", a[1,:].shape, \"a 1-D array\")\n",
        "# same as\n",
        "print(\"a[1]   = \", a[1],   \",  a[1].shape   =\", a[1].shape, \"a 1-D array\")\n"
      ]
    },
    {
      "cell_type": "markdown",
      "source": [
        "# ** Multiple Variable Linear Regression**![Screenshot 2024-05-09 222732.png](data:image/png;base64,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)\n",
        "\n",
        "*   Extend data structures to support multiple features\n",
        "*   Rewrite prediction, cost and gradient routines to support multiple features\n",
        "*   Utilize NumPy np.dot to vectorize their implementations for speed and simplicity\n",
        "\n",
        "\n",
        "\n"
      ],
      "metadata": {
        "id": "wx2utbs4fyRc"
      }
    },
    {
      "cell_type": "code",
      "source": [
        "import copy, math"
      ],
      "metadata": {
        "id": "1KLFvUM4hmpI"
      },
      "execution_count": null,
      "outputs": []
    },
    {
      "cell_type": "code",
      "source": [
        "# Set the plot style\n",
        "plt.style.use('')"
      ],
      "metadata": {
        "id": "H98JozNLh23H"
      },
      "execution_count": null,
      "outputs": []
    },
    {
      "cell_type": "code",
      "source": [
        "plt.style.use('default')\n",
        "\n",
        "# Show the plot\n",
        "plt.show()"
      ],
      "metadata": {
        "colab": {
          "base_uri": "https://localhost:8080/",
          "height": 17,
          "referenced_widgets": [
            "850dbe4097b54f089618ca4b39f08da9"
          ]
        },
        "id": "3AHhcyTciG43",
        "outputId": "68938178-69bb-4a80-b05a-63b4c45c61c1"
      },
      "execution_count": null,
      "outputs": [
        {
          "output_type": "display_data",
          "data": {
            "text/plain": [
              "Canvas(toolbar=Toolbar(toolitems=[('Home', 'Reset original view', 'home', 'home'), ('Back', 'Back to previous …"
            ],
            "image/png": "[encoded data removed]",
            "text/html": [
              "\n",
              "            <div style=\"display: inline-block;\">\n",
              "                <div class=\"jupyter-widgets widget-label\" style=\"text-align: center;\">\n",
              "                    Figure\n",
              "                </div>\n",
              "                <img src='data:image/png;base64,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' width=640.0/>\n",
              "            </div>\n",
              "        "
            ],
            "application/vnd.jupyter.widget-view+json": {
              "version_major": 2,
              "version_minor": 0,
              "model_id": "850dbe4097b54f089618ca4b39f08da9"
            }
          },
          "metadata": {}
        }
      ]
    },
    {
      "cell_type": "code",
      "source": [
        "x_train = np.array([[2104, 5, 1, 45], [1416, 3, 2, 40], [852, 2, 1, 35]])\n",
        "y_train = np.array([460, 232, 178])"
      ],
      "metadata": {
        "id": "7nLgn7VYzKTF"
      },
      "execution_count": null,
      "outputs": []
    },
    {
      "cell_type": "code",
      "source": [
        "print(f\"X Shape in rows and columns:{x_train.shape}, X Type:{type(x_train)}\")\n",
        "print(x_train)"
      ],
      "metadata": {
        "colab": {
          "base_uri": "https://localhost:8080/",
          "height": 86
        },
        "id": "uzT62Eh307XC",
        "outputId": "e7f11ef7-2e13-4327-e729-81fdc51dbadf"
      },
      "execution_count": null,
      "outputs": [
        {
          "output_type": "stream",
          "name": "stdout",
          "text": [
            "X Shape in rows and columns:(3, 4), X Type:<class 'numpy.ndarray'>\n",
            "[[2104    5    1   45]\n",
            " [1416    3    2   40]\n",
            " [ 852    2    1   35]]\n"
          ]
        }
      ]
    },
    {
      "cell_type": "code",
      "source": [
        "print(y_train)\n",
        "print(f\"Y shape:{y_train.shape}, Y Type:{type(y_train)}\")\n",
        "print(y_train)"
      ],
      "metadata": {
        "colab": {
          "base_uri": "https://localhost:8080/",
          "height": 69
        },
        "id": "a8tZbC5d24V6",
        "outputId": "734e08ee-5f20-44df-d866-9be3340ab63e"
      },
      "execution_count": null,
      "outputs": [
        {
          "output_type": "stream",
          "name": "stdout",
          "text": [
            "[460 232 178]\n",
            "Y shape:(3,), Y Type:<class 'numpy.ndarray'>\n",
            "[460 232 178]\n"
          ]
        }
      ]
    },
    {
      "cell_type": "markdown",
      "source": [
        "\n",
        "\n",
        "1.   𝑏 is a single number, also known as a scalar.\n",
        "2.   𝐰 is a one-dimensional NumPy array, which is like a list of numbers.\n",
        "\n",
        "Both 𝑏 and 𝐰 will be given some starting values that are close to the best values."
      ],
      "metadata": {
        "id": "KqG-twrp3_E9"
      }
    },
    {
      "cell_type": "markdown",
      "source": [
        "### **Even simpler: w, b**\n",
        "\n",
        "**Good parameter starting points in machine learning help the training process:**\n",
        "\n",
        "* **Learn faster:** Like giving a hint, it takes less time to find the best settings.\n",
        "* **Avoid getting stuck:** It helps steer the training away from dead ends and towards better results.\n"
      ],
      "metadata": {
        "id": "DgIAMEpu8BFd"
      }
    },
    {
      "cell_type": "markdown",
      "source": [
        "![image.png](data:image/png;base64,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)"
      ],
      "metadata": {
        "id": "SnO8s5-1Gg_T"
      }
    },
    {
      "cell_type": "code",
      "source": [
        "b_init =  785.1811367994083\n",
        "w_init = np.array([ 0.39133535, 18.75376741, -53.36032453, -26.42131618])\n",
        "print(f\"w_init shape: {w_init.shape}, b_init type {type(b_init)}\")"
      ],
      "metadata": {
        "colab": {
          "base_uri": "https://localhost:8080/",
          "height": 34
        },
        "id": "LDW8MP3e3iQN",
        "outputId": "ed66df95-29dd-47ef-eaa0-6bfff05a2c78"
      },
      "execution_count": null,
      "outputs": [
        {
          "output_type": "stream",
          "name": "stdout",
          "text": [
            "w_init shape: (4,), b_init type <class 'float'>\n"
          ]
        }
      ]
    },
    {
      "cell_type": "code",
      "source": [
        "def predict_dvector_loop(x,w,b):\n",
        "  n = x.shape[0]\n",
        "  p = 0\n",
        "  for i in range(n):\n",
        "    p_i = x[i] * w[i]\n",
        "    p = p + p_i\n",
        "  p = p + b\n",
        "  return p\n",
        "\n",
        "#get a row from training dataset\n",
        "x_vec = x_train[0,:]\n",
        "print(f\"x_vec shape: {x_vec.shape}, x_vec value: {x_vec}\")\n",
        "\n",
        "#make a predicction\n",
        "f_wb = predict_dvector_loop(x_vec, w_init, b_init)\n",
        "print(f\"f_wb shape: {f_wb.shape}, prediction: {f_wb} \")"
      ],
      "metadata": {
        "id": "TNJUsj617WTC",
        "colab": {
          "base_uri": "https://localhost:8080/",
          "height": 52
        },
        "outputId": "e157a501-20bc-4df7-a728-ec7e6352c1a6"
      },
      "execution_count": null,
      "outputs": [
        {
          "output_type": "stream",
          "name": "stdout",
          "text": [
            "x_vec shape: (4,), x_vec value: [2104    5    1   45]\n",
            "f_wb shape: (), prediction: 459.9999976194083 \n"
          ]
        }
      ]
    },
    {
      "cell_type": "markdown",
      "source": [
        "# Single Prediction, vector"
      ],
      "metadata": {
        "id": "eSBf5u_bFQrv"
      }
    },
    {
      "cell_type": "code",
      "source": [
        "def predict(x, w, b):\n",
        "    p = np.dot(x, w) + b\n",
        "    return p\n",
        "x_vec = x_train[0,:]\n",
        "print(f\"x_vec shape: {x_vec.shape}, x_vec value: {x_vec}\")\n",
        "\n",
        "#make a predicction\n",
        "f_wb = predict_dvector_loop(x_vec, w_init, b_init)\n",
        "print(f\"f_wb shape: {f_wb.shape}, prediction: {f_wb} \")"
      ],
      "metadata": {
        "colab": {
          "base_uri": "https://localhost:8080/",
          "height": 52
        },
        "id": "fal1b4rJFRcT",
        "outputId": "11ea10f4-1b03-4f73-86f8-4dc90bcfd4fb"
      },
      "execution_count": null,
      "outputs": [
        {
          "output_type": "stream",
          "name": "stdout",
          "text": [
            "x_vec shape: (4,), x_vec value: [2104    5    1   45]\n",
            "f_wb shape: (), prediction: 459.9999976194083 \n"
          ]
        }
      ]
    },
    {
      "cell_type": "markdown",
      "source": [
        "# Cost With Multiple Variables ![Screenshot 2024-05-09 233622.png](data:image/png;base64,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)"
      ],
      "metadata": {
        "id": "iU4btnoSFEYM"
      }
    },
    {
      "cell_type": "code",
      "source": [
        "def compute_cost(X, y, w, b):\n",
        "    m = X.shape[0]\n",
        "    cost = 0.0\n",
        "    for i in range(m):\n",
        "      f_wb_i = np.dot(x[i], w) + b\n",
        "      cost = cost + (f_wb_i - y[i])**2\n",
        "    cost = cost / (2 * m)\n",
        "    return cost"
      ],
      "metadata": {
        "id": "JtF0CcZfFbt9"
      },
      "execution_count": null,
      "outputs": []
    },
    {
      "cell_type": "code",
      "source": [
        "# Compute and display cost using our pre-chosen optimal parameters.\n",
        "cost = compute_cost(x_train, y_train, w_init, b_init)\n",
        "print(f'Cost at optimal w : {cost}')"
      ],
      "metadata": {
        "colab": {
          "base_uri": "https://localhost:8080/",
          "height": 34
        },
        "id": "t2OIQPtzFbjk",
        "outputId": "edc26336-5d55-4ad2-9f06-da1a7c860ade"
      },
      "execution_count": null,
      "outputs": [
        {
          "output_type": "stream",
          "name": "stdout",
          "text": [
            "Cost at optimal w : [130093.47006009 131189.26707029 126918.74246345 128503.69632712]\n"
          ]
        }
      ]
    },
    {
      "cell_type": "markdown",
      "source": [
        "## Gradient Descent With Multiple Variables"
      ],
      "metadata": {
        "id": "be1e1V5vGC1D"
      }
    },
    {
      "cell_type": "code",
      "source": [
        "print(x)"
      ],
      "metadata": {
        "colab": {
          "base_uri": "https://localhost:8080/",
          "height": 312
        },
        "id": "oTed-7G4GvKx",
        "outputId": "fa09cea6-3dd0-4ddf-ef1c-3aff548f1a20"
      },
      "execution_count": null,
      "outputs": [
        {
          "output_type": "stream",
          "name": "stdout",
          "text": [
            "[ 0.          0.1010101   0.2020202   0.3030303   0.4040404   0.50505051\n",
            "  0.60606061  0.70707071  0.80808081  0.90909091  1.01010101  1.11111111\n",
            "  1.21212121  1.31313131  1.41414141  1.51515152  1.61616162  1.71717172\n",
            "  1.81818182  1.91919192  2.02020202  2.12121212  2.22222222  2.32323232\n",
            "  2.42424242  2.52525253  2.62626263  2.72727273  2.82828283  2.92929293\n",
            "  3.03030303  3.13131313  3.23232323  3.33333333  3.43434343  3.53535354\n",
            "  3.63636364  3.73737374  3.83838384  3.93939394  4.04040404  4.14141414\n",
            "  4.24242424  4.34343434  4.44444444  4.54545455  4.64646465  4.74747475\n",
            "  4.84848485  4.94949495  5.05050505  5.15151515  5.25252525  5.35353535\n",
            "  5.45454545  5.55555556  5.65656566  5.75757576  5.85858586  5.95959596\n",
            "  6.06060606  6.16161616  6.26262626  6.36363636  6.46464646  6.56565657\n",
            "  6.66666667  6.76767677  6.86868687  6.96969697  7.07070707  7.17171717\n",
            "  7.27272727  7.37373737  7.47474747  7.57575758  7.67676768  7.77777778\n",
            "  7.87878788  7.97979798  8.08080808  8.18181818  8.28282828  8.38383838\n",
            "  8.48484848  8.58585859  8.68686869  8.78787879  8.88888889  8.98989899\n",
            "  9.09090909  9.19191919  9.29292929  9.39393939  9.49494949  9.5959596\n",
            "  9.6969697   9.7979798   9.8989899  10.        ]\n"
          ]
        }
      ]
    }
  ],
  "metadata": {
    "colab": {
      "provenance": [],
      "include_colab_link": true
    },
    "kernelspec": {
      "display_name": "Python 3",
      "name": "python3"
    },
    "language_info": {
      "name": "python"
    },
    "widgets": {
      "application/vnd.jupyter.widget-state+json": {
        "850dbe4097b54f089618ca4b39f08da9": {
          "model_module": "jupyter-matplotlib",
          "model_name": "MPLCanvasModel",
          "model_module_version": "^0.11",
          "state": {
            "_cursor": "pointer",
            "_data_url": "data:image/png;base64,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",
            "_dom_classes": [],
            "_figure_label": "Figure",
            "_image_mode": "full",
            "_message": "",
            "_model_module": "jupyter-matplotlib",
            "_model_module_version": "^0.11",
            "_model_name": "MPLCanvasModel",
            "_rubberband_height": 0,
            "_rubberband_width": 0,
            "_rubberband_x": 0,
            "_rubberband_y": 0,
            "_size": [
              640,
              480
            ],
            "_view_count": null,
            "_view_module": "jupyter-matplotlib",
            "_view_module_version": "^0.11",
            "_view_name": "MPLCanvasView",
            "capture_scroll": false,
            "footer_visible": true,
            "header_visible": true,
            "layout": "IPY_MODEL_ae99f372e45e40038807be90a7d1ba76",
            "pan_zoom_throttle": 33,
            "resizable": true,
            "toolbar": "IPY_MODEL_81cb08b89fdc43c9b78bb54e8f64f01d",
            "toolbar_position": "left",
            "toolbar_visible": "fade-in-fade-out"
          }
        }
      }
    }
  },
  "nbformat": 4,
  "nbformat_minor": 0
}